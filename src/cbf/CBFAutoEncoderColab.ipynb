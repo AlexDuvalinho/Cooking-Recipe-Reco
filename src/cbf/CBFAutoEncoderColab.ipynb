{
  "nbformat": 4,
  "nbformat_minor": 0,
  "metadata": {
    "kernelspec": {
      "name": "python3",
      "display_name": "Python 3"
    },
    "language_info": {
      "codemirror_mode": {
        "name": "ipython",
        "version": 3
      },
      "file_extension": ".py",
      "mimetype": "text/x-python",
      "name": "python",
      "nbconvert_exporter": "python",
      "pygments_lexer": "ipython3",
      "version": "3.7.4"
    },
    "colab": {
      "name": "CBFAutoEncoderColab.ipynb",
      "provenance": [],
      "collapsed_sections": [],
      "machine_shape": "hm"
    },
    "accelerator": "TPU"
  },
  "cells": [
    {
      "cell_type": "code",
      "metadata": {
        "id": "TllH6ltlvUw_",
        "colab_type": "code",
        "colab": {}
      },
      "source": [
        "%tensorflow_version 1.x"
      ],
      "execution_count": 0,
      "outputs": []
    },
    {
      "cell_type": "code",
      "metadata": {
        "id": "nphri6Ca47EZ",
        "colab_type": "code",
        "outputId": "0f74cf1a-2c5c-4cdb-c58c-95fa42937b33",
        "colab": {
          "base_uri": "https://localhost:8080/",
          "height": 34
        }
      },
      "source": [
        "import numpy as np\n",
        "import tensorflow as tf\n",
        "import pandas as pd\n",
        "import gc, sys\n",
        "from tqdm import tqdm_notebook as tqdm\n",
        "\n",
        "tf.__version__"
      ],
      "execution_count": 2,
      "outputs": [
        {
          "output_type": "execute_result",
          "data": {
            "text/plain": [
              "'1.15.0'"
            ]
          },
          "metadata": {
            "tags": []
          },
          "execution_count": 2
        }
      ]
    },
    {
      "cell_type": "code",
      "metadata": {
        "id": "fm5e2HVPmN3U",
        "colab_type": "code",
        "colab": {}
      },
      "source": [
        "#Set to true if computing on TPU\n",
        "TPU = True\n",
        "\n",
        "NB_EPOCHS = 50\n",
        "\n",
        "#TPU 128, GPU : 32\n",
        "BATCH_SIZE = 256"
      ],
      "execution_count": 0,
      "outputs": []
    },
    {
      "cell_type": "markdown",
      "metadata": {
        "id": "l6EW_3O880er",
        "colab_type": "text"
      },
      "source": [
        "##Download data from Kaggle\n",
        "1. upload the kaggle.json file before running the next cells\n",
        "2. execute next cell"
      ]
    },
    {
      "cell_type": "code",
      "metadata": {
        "id": "dudoYTbY7AsN",
        "colab_type": "code",
        "outputId": "84958b00-2ef5-4d83-edc1-e168677a3233",
        "colab": {
          "base_uri": "https://localhost:8080/",
          "height": 34
        }
      },
      "source": [
        "!cp ./kaggle.json /root/.kaggle/\n",
        "!chmod 600 /root/.kaggle/kaggle.json\n",
        "\n",
        "import kaggle as kg\n",
        "\n",
        "api = kg.KaggleApi('kaggle.json')\n",
        "api.authenticate()\n",
        "api.dataset_download_files('shuyangli94/food-com-recipes-and-user-interactions', './',\n",
        "                           quiet=False, unzip=True)"
      ],
      "execution_count": 4,
      "outputs": [
        {
          "output_type": "stream",
          "text": [
            "food-com-recipes-and-user-interactions.zip: Skipping, found more recently modified local copy (use --force to force download)\n"
          ],
          "name": "stdout"
        }
      ]
    },
    {
      "cell_type": "markdown",
      "metadata": {
        "id": "wDdGfZMfqdNP",
        "colab_type": "text"
      },
      "source": [
        "## Build model Data input from PP_recipes.csv"
      ]
    },
    {
      "cell_type": "code",
      "metadata": {
        "id": "yE19j5Gs47Ee",
        "colab_type": "code",
        "outputId": "d9db2e49-6944-4356-fd1a-3531055bf556",
        "colab": {
          "base_uri": "https://localhost:8080/",
          "height": 193
        }
      },
      "source": [
        "#read the recipes file\n",
        "pp_recipes = pd.read_csv('PP_recipes.csv')\n",
        "pp_recipes.sort_values(['i'], inplace=True)\n",
        "pp_recipes.head(3)"
      ],
      "execution_count": 5,
      "outputs": [
        {
          "output_type": "execute_result",
          "data": {
            "text/html": [
              "<div>\n",
              "<style scoped>\n",
              "    .dataframe tbody tr th:only-of-type {\n",
              "        vertical-align: middle;\n",
              "    }\n",
              "\n",
              "    .dataframe tbody tr th {\n",
              "        vertical-align: top;\n",
              "    }\n",
              "\n",
              "    .dataframe thead th {\n",
              "        text-align: right;\n",
              "    }\n",
              "</style>\n",
              "<table border=\"1\" class=\"dataframe\">\n",
              "  <thead>\n",
              "    <tr style=\"text-align: right;\">\n",
              "      <th></th>\n",
              "      <th>id</th>\n",
              "      <th>i</th>\n",
              "      <th>name_tokens</th>\n",
              "      <th>ingredient_tokens</th>\n",
              "      <th>steps_tokens</th>\n",
              "      <th>techniques</th>\n",
              "      <th>calorie_level</th>\n",
              "      <th>ingredient_ids</th>\n",
              "    </tr>\n",
              "  </thead>\n",
              "  <tbody>\n",
              "    <tr>\n",
              "      <th>46053</th>\n",
              "      <td>40893</td>\n",
              "      <td>0</td>\n",
              "      <td>[40480, 1454, 16201, 2056, 955, 541, 11332, 82...</td>\n",
              "      <td>[[1424, 8876, 11007], [3484, 21453], [38966, 2...</td>\n",
              "      <td>[40480, 40482, 23667, 11007, 240, 21453, 240, ...</td>\n",
              "      <td>[0, 0, 0, 0, 0, 0, 0, 0, 0, 1, 1, 0, 0, 0, 0, ...</td>\n",
              "      <td>0</td>\n",
              "      <td>[3384, 7979, 2127, 3502, 3217, 1257, 2778, 500...</td>\n",
              "    </tr>\n",
              "    <tr>\n",
              "      <th>108526</th>\n",
              "      <td>44394</td>\n",
              "      <td>1</td>\n",
              "      <td>[40480, 34712, 22683, 11274, 5409, 29868, 40481]</td>\n",
              "      <td>[[5343, 535, 2044, 5409, 7087], [17869, 6020],...</td>\n",
              "      <td>[40480, 40482, 12172, 1281, 5409, 7087, 240, 6...</td>\n",
              "      <td>[1, 0, 0, 1, 0, 0, 0, 0, 0, 0, 0, 0, 0, 0, 0, ...</td>\n",
              "      <td>0</td>\n",
              "      <td>[912, 7557, 2499, 5382]</td>\n",
              "    </tr>\n",
              "    <tr>\n",
              "      <th>41248</th>\n",
              "      <td>85009</td>\n",
              "      <td>2</td>\n",
              "      <td>[40480, 12187, 13995, 571, 14719, 40481]</td>\n",
              "      <td>[[1061, 494, 813, 2141], [31843], [30645, 4785...</td>\n",
              "      <td>[40480, 40482, 2572, 19472, 31757, 512, 823, 4...</td>\n",
              "      <td>[1, 0, 0, 0, 0, 0, 0, 1, 0, 1, 0, 0, 0, 0, 0, ...</td>\n",
              "      <td>2</td>\n",
              "      <td>[4623, 6265, 1168, 6016, 3597, 3440, 7213, 169...</td>\n",
              "    </tr>\n",
              "  </tbody>\n",
              "</table>\n",
              "</div>"
            ],
            "text/plain": [
              "           id  ...                                     ingredient_ids\n",
              "46053   40893  ...  [3384, 7979, 2127, 3502, 3217, 1257, 2778, 500...\n",
              "108526  44394  ...                            [912, 7557, 2499, 5382]\n",
              "41248   85009  ...  [4623, 6265, 1168, 6016, 3597, 3440, 7213, 169...\n",
              "\n",
              "[3 rows x 8 columns]"
            ]
          },
          "metadata": {
            "tags": []
          },
          "execution_count": 5
        }
      ]
    },
    {
      "cell_type": "code",
      "metadata": {
        "id": "r7fZb_-b47Ei",
        "colab_type": "code",
        "outputId": "fadcba42-6827-4e80-a044-400406e48b7f",
        "colab": {
          "base_uri": "https://localhost:8080/",
          "height": 51
        }
      },
      "source": [
        "# we need to create a collection of ingredients_ids to build vectors of recipes\n",
        "set_ingredients = set()\n",
        "\n",
        "for i in tqdm(range(len(pp_recipes['ingredient_ids']))):\n",
        "    current = [int(x.strip()) for x in pp_recipes['ingredient_ids'].values[i][1:-1].split(',')]\n",
        "    set_ingredients.update(current)\n",
        "    \n",
        "print('Number of ingredients in total :', len(set_ingredients))"
      ],
      "execution_count": 6,
      "outputs": [
        {
          "output_type": "display_data",
          "data": {
            "application/vnd.jupyter.widget-view+json": {
              "model_id": "6766a2d299c24b6d8a176df4664d4623",
              "version_minor": 0,
              "version_major": 2
            },
            "text/plain": [
              "HBox(children=(IntProgress(value=0, max=178265), HTML(value='')))"
            ]
          },
          "metadata": {
            "tags": []
          }
        },
        {
          "output_type": "stream",
          "text": [
            "\n",
            "Number of ingredients in total : 7993\n"
          ],
          "name": "stdout"
        }
      ]
    },
    {
      "cell_type": "code",
      "metadata": {
        "id": "9vf55X-T47El",
        "colab_type": "code",
        "outputId": "e53e18e1-9da8-4e3f-c385-a00ac102b4c4",
        "colab": {
          "base_uri": "https://localhost:8080/",
          "height": 34
        }
      },
      "source": [
        "list_ingredients = list(set_ingredients)\n",
        "\n",
        "#initialize the matrix\n",
        "np_matrix = np.zeros((len(pp_recipes), list_ingredients[-1] + 1),dtype=np.uint8)\n",
        "\n",
        "#populate it\n",
        "for i in tqdm(range(len(pp_recipes['ingredient_ids']))):\n",
        "    for x in pp_recipes['ingredient_ids'].values[i][1:-1].split(','):\n",
        "        np_matrix[i,int(x.strip())] = 1"
      ],
      "execution_count": 7,
      "outputs": [
        {
          "output_type": "display_data",
          "data": {
            "application/vnd.jupyter.widget-view+json": {
              "model_id": "7851405fcdb44d33b8f5c358d2afd66a",
              "version_minor": 0,
              "version_major": 2
            },
            "text/plain": [
              "HBox(children=(IntProgress(value=0, max=178265), HTML(value='')))"
            ]
          },
          "metadata": {
            "tags": []
          }
        },
        {
          "output_type": "stream",
          "text": [
            "\n"
          ],
          "name": "stdout"
        }
      ]
    },
    {
      "cell_type": "code",
      "metadata": {
        "id": "zBfsk2B547Eo",
        "colab_type": "code",
        "outputId": "2e98c9d3-9b44-4983-ccc8-31c2f60cb80e",
        "colab": {
          "base_uri": "https://localhost:8080/",
          "height": 34
        }
      },
      "source": [
        "#wrap the matrix in a pandas dataframe\n",
        "pd_matrix = pd.DataFrame(np_matrix,columns=range(list_ingredients[-1] + 1), index=pp_recipes['i'].values,dtype=np.uint8)\n",
        "\n",
        "del np_matrix\n",
        "gc.collect()\n",
        "\n",
        "pd_matrix.shape"
      ],
      "execution_count": 8,
      "outputs": [
        {
          "output_type": "execute_result",
          "data": {
            "text/plain": [
              "(178265, 8023)"
            ]
          },
          "metadata": {
            "tags": []
          },
          "execution_count": 8
        }
      ]
    },
    {
      "cell_type": "code",
      "metadata": {
        "id": "i7jpFHDPmbxd",
        "colab_type": "code",
        "outputId": "807d46bd-72da-4f1d-dc5c-5684d039d15e",
        "colab": {
          "base_uri": "https://localhost:8080/",
          "height": 34
        }
      },
      "source": [
        "#Computing values for tensorflow\n",
        "STEPS_PER_EPOCH = len(pd_matrix) // BATCH_SIZE\n",
        "\n",
        "print('Epochs :', NB_EPOCHS,',Batch size :', BATCH_SIZE, ',Step per epochs :', STEPS_PER_EPOCH)"
      ],
      "execution_count": 9,
      "outputs": [
        {
          "output_type": "stream",
          "text": [
            "Epochs : 50 ,Batch size : 256 ,Step per epochs : 696\n"
          ],
          "name": "stdout"
        }
      ]
    },
    {
      "cell_type": "code",
      "metadata": {
        "id": "PF48GIcQfUcl",
        "colab_type": "code",
        "colab": {}
      },
      "source": [
        "#build an input dataSet using tf.data.Dataset tensorflow api (looks like spark)\n",
        "def BuildTFDataset(np_matrix):\n",
        "  data = tf.data.Dataset.from_tensor_slices(np_matrix)\n",
        "\n",
        "  #TPU can't deal with uint8, cast to int32\n",
        "  # (X, (X', dummy))  \n",
        "  data = data.map(lambda x : (tf.cast(x, tf.int32), (tf.cast(x, tf.int32), 0)))\n",
        "  data = data.repeat(NB_EPOCHS)\n",
        "  data = data.shuffle(2 * BATCH_SIZE * STEPS_PER_EPOCH)\n",
        "  data = data.batch(BATCH_SIZE, drop_remainder=TPU)\n",
        "\n",
        "  return data"
      ],
      "execution_count": 0,
      "outputs": []
    },
    {
      "cell_type": "code",
      "metadata": {
        "id": "nO718FOEgJtG",
        "colab_type": "code",
        "colab": {}
      },
      "source": [
        "#to debug dataset if needed\n",
        "\n",
        "#with tf.Session() as sess:\n",
        "#  test = sess.run(BuildTFDataset(pd_matrix).make_one_shot_iterator().get_next())\n",
        "#  print(test[0].shape)"
      ],
      "execution_count": 0,
      "outputs": []
    },
    {
      "cell_type": "markdown",
      "metadata": {
        "id": "pgodR4fRqivw",
        "colab_type": "text"
      },
      "source": [
        "#Build the model and start training"
      ]
    },
    {
      "cell_type": "code",
      "metadata": {
        "id": "1-a7uprC47Er",
        "colab_type": "code",
        "colab": {}
      },
      "source": [
        "def BuildAEModel(n_ingredients, activation=None):\n",
        "    inputs = tf.keras.layers.Input((n_ingredients,))\n",
        "    #encoded_layer1 = tf.keras.layers.Dense(8192,activation=None, name='Encoder_Layer_1')(inputs)\n",
        "    #encoded_layer2 = tf.keras.layers.Dense(4096,activation=None, name='Encoder_Layer_2')(encoded_layer1)\n",
        "    #encoded_layer3 = tf.keras.layers.Dense(2048,activation=None, name='Encoder_Layer_3')(encoded_layer2)\n",
        "    \n",
        "    embedded = tf.keras.layers.Dense(1024,activation=activation, name='embedder')(inputs)\n",
        "    \n",
        "    #decoded_layer1 = tf.keras.layers.Dense(2048,activation=None, name='Decoder_Layer_1')(embedded)\n",
        "    #decoded_layer2 = tf.keras.layers.Dense(4096,activation=None, name='Decoder_Layer_2')(decoded_layer1)\n",
        "    #decoded_layer3 = tf.keras.layers.Dense(8192,activation=None, name='Decoder_Layer_3')(decoded_layer2)\n",
        "    \n",
        "    outputs = tf.keras.layers.Dense(n_ingredients, activation='sigmoid', name = 'Reconstructor')(embedded)\n",
        "    \n",
        "    model = tf.keras.Model(inputs=inputs, outputs = [outputs, embedded])\n",
        "    return model"
      ],
      "execution_count": 0,
      "outputs": []
    },
    {
      "cell_type": "code",
      "metadata": {
        "id": "gb51gKuJa5dh",
        "colab_type": "code",
        "colab": {
          "base_uri": "https://localhost:8080/",
          "height": 459
        },
        "outputId": "1782f3b2-e1ac-4547-f440-22f172f8c837"
      },
      "source": [
        "#initialize tpu only once\n",
        "if TPU and not('strategy' in globals()):\n",
        "  resolver = tf.contrib.cluster_resolver.TPUClusterResolver()\n",
        "  tf.contrib.distribute.initialize_tpu_system(resolver)\n",
        "  strategy = tf.contrib.distribute.TPUStrategy(resolver)"
      ],
      "execution_count": 13,
      "outputs": [
        {
          "output_type": "stream",
          "text": [
            "WARNING:tensorflow:\n",
            "The TensorFlow contrib module will not be included in TensorFlow 2.0.\n",
            "For more information, please see:\n",
            "  * https://github.com/tensorflow/community/blob/master/rfcs/20180907-contrib-sunset.md\n",
            "  * https://github.com/tensorflow/addons\n",
            "  * https://github.com/tensorflow/io (for I/O related ops)\n",
            "If you depend on functionality not listed there, please file an issue.\n",
            "\n",
            "INFO:tensorflow:Initializing the TPU system: 10.87.114.194:8470\n",
            "INFO:tensorflow:Finished initializing TPU system.\n",
            "INFO:tensorflow:Querying Tensorflow master (grpc://10.87.114.194:8470) for TPU system metadata.\n",
            "INFO:tensorflow:Found TPU system:\n",
            "INFO:tensorflow:*** Num TPU Cores: 8\n",
            "INFO:tensorflow:*** Num TPU Workers: 1\n",
            "INFO:tensorflow:*** Num TPU Cores Per Worker: 8\n",
            "INFO:tensorflow:*** Available Device: _DeviceAttributes(/job:worker/replica:0/task:0/device:CPU:0, CPU, -1, 4700023981800189271)\n",
            "INFO:tensorflow:*** Available Device: _DeviceAttributes(/job:worker/replica:0/task:0/device:TPU:0, TPU, 17179869184, 1404438085793916144)\n",
            "INFO:tensorflow:*** Available Device: _DeviceAttributes(/job:worker/replica:0/task:0/device:TPU:1, TPU, 17179869184, 10430085708316664299)\n",
            "INFO:tensorflow:*** Available Device: _DeviceAttributes(/job:worker/replica:0/task:0/device:TPU:2, TPU, 17179869184, 3837208935036568417)\n",
            "INFO:tensorflow:*** Available Device: _DeviceAttributes(/job:worker/replica:0/task:0/device:TPU:3, TPU, 17179869184, 12770872403466441987)\n",
            "INFO:tensorflow:*** Available Device: _DeviceAttributes(/job:worker/replica:0/task:0/device:TPU:4, TPU, 17179869184, 1188123749421954488)\n",
            "INFO:tensorflow:*** Available Device: _DeviceAttributes(/job:worker/replica:0/task:0/device:TPU:5, TPU, 17179869184, 5768233379655075383)\n",
            "INFO:tensorflow:*** Available Device: _DeviceAttributes(/job:worker/replica:0/task:0/device:TPU:6, TPU, 17179869184, 5578865129180981364)\n",
            "INFO:tensorflow:*** Available Device: _DeviceAttributes(/job:worker/replica:0/task:0/device:TPU:7, TPU, 17179869184, 14927305190861297359)\n",
            "INFO:tensorflow:*** Available Device: _DeviceAttributes(/job:worker/replica:0/task:0/device:TPU_SYSTEM:0, TPU_SYSTEM, 8589934592, 4761665248094563625)\n",
            "INFO:tensorflow:*** Available Device: _DeviceAttributes(/job:worker/replica:0/task:0/device:XLA_CPU:0, XLA_CPU, 17179869184, 700899522110024899)\n"
          ],
          "name": "stdout"
        }
      ]
    },
    {
      "cell_type": "code",
      "metadata": {
        "id": "u4ybzdaC47Eu",
        "colab_type": "code",
        "outputId": "961226ee-ddb7-4691-ed36-ded054bd60ff",
        "colab": {
          "base_uri": "https://localhost:8080/",
          "height": 343
        }
      },
      "source": [
        "if TPU :\n",
        "  with strategy.scope():\n",
        "    print(\"TPU Mode activated\")\n",
        "    my_model = BuildAEModel(pd_matrix.shape[1], 'relu')\n",
        "    my_model.summary()\n",
        "    my_model.compile('adam',loss=['mse', lambda y_true, y_preds : 0.0], metrics={'Reconstructor':tf.keras.metrics.binary_accuracy})\n",
        "else:\n",
        "    my_model = BuildAEModel(pd_matrix.shape[1], 'relu')\n",
        "    my_model.summary()\n",
        "    my_model.compile('adam',loss=['mse', lambda y_true, y_preds : 0.0], metrics={'Reconstructor':tf.keras.metrics.binary_accuracy})"
      ],
      "execution_count": 14,
      "outputs": [
        {
          "output_type": "stream",
          "text": [
            "TPU Mode activated\n",
            "WARNING:tensorflow:From /usr/local/lib/python3.6/dist-packages/tensorflow_core/python/ops/resource_variable_ops.py:1630: calling BaseResourceVariable.__init__ (from tensorflow.python.ops.resource_variable_ops) with constraint is deprecated and will be removed in a future version.\n",
            "Instructions for updating:\n",
            "If using Keras pass *_constraint arguments to layers.\n",
            "Model: \"model\"\n",
            "_________________________________________________________________\n",
            "Layer (type)                 Output Shape              Param #   \n",
            "=================================================================\n",
            "input_1 (InputLayer)         [(None, 8023)]            0         \n",
            "_________________________________________________________________\n",
            "embedder (Dense)             (None, 1024)              8216576   \n",
            "_________________________________________________________________\n",
            "Reconstructor (Dense)        (None, 8023)              8223575   \n",
            "=================================================================\n",
            "Total params: 16,440,151\n",
            "Trainable params: 16,440,151\n",
            "Non-trainable params: 0\n",
            "_________________________________________________________________\n"
          ],
          "name": "stdout"
        }
      ]
    },
    {
      "cell_type": "code",
      "metadata": {
        "id": "lZeW4PgvDKnR",
        "colab_type": "code",
        "colab": {}
      },
      "source": [
        "# This function decrease the learning rate by 10 at each epoch\n",
        "def scheduler(epoch):\n",
        "    return 0.001 * np.power(0.1, epoch)\n",
        "\n",
        "callbacks = [tf.keras.callbacks.LearningRateScheduler(scheduler,verbose=1)]\n",
        "callbacks = [tf.keras.callbacks.ReduceLROnPlateau(monitor='loss',patience=1, verbose=1), \n",
        "             tf.keras.callbacks.EarlyStopping(monitor = 'loss',patience = 3)]\n"
      ],
      "execution_count": 0,
      "outputs": []
    },
    {
      "cell_type": "code",
      "metadata": {
        "id": "7kklO9AR47Ex",
        "colab_type": "code",
        "outputId": "f6b90556-805d-4888-e3f0-d9fa9c1c513f",
        "colab": {
          "base_uri": "https://localhost:8080/",
          "height": 615
        }
      },
      "source": [
        "hist = my_model.fit(BuildTFDataset(pd_matrix.values), epochs=NB_EPOCHS, steps_per_epoch=STEPS_PER_EPOCH, callbacks=callbacks)"
      ],
      "execution_count": 16,
      "outputs": [
        {
          "output_type": "stream",
          "text": [
            "Epoch 1/50\n",
            "696/696 [==============================] - 48s 69ms/step - loss: 0.0073 - Reconstructor_loss: 0.0073 - embedder_loss: 0.0000e+00 - Reconstructor_binary_accuracy: 0.9969\n",
            "Epoch 2/50\n",
            "696/696 [==============================] - 18s 26ms/step - loss: 8.7722e-04 - Reconstructor_loss: 8.7722e-04 - embedder_loss: 0.0000e+00 - Reconstructor_binary_accuracy: 0.9991\n",
            "Epoch 3/50\n",
            "696/696 [==============================] - 18s 26ms/step - loss: 7.6652e-04 - Reconstructor_loss: 7.6652e-04 - embedder_loss: 0.0000e+00 - Reconstructor_binary_accuracy: 0.9992\n",
            "Epoch 4/50\n",
            "695/696 [============================>.] - ETA: 0s - loss: 6.9427e-04 - Reconstructor_loss: 6.9427e-04 - embedder_loss: 0.0000e+00 - Reconstructor_binary_accuracy: 0.9993\n",
            "Epoch 00004: ReduceLROnPlateau reducing learning rate to 0.00010000000474974513.\n",
            "696/696 [==============================] - 18s 27ms/step - loss: 6.9429e-04 - Reconstructor_loss: 6.9429e-04 - embedder_loss: 0.0000e+00 - Reconstructor_binary_accuracy: 0.9993\n",
            "Epoch 5/50\n",
            "695/696 [============================>.] - ETA: 0s - loss: 6.7758e-04 - Reconstructor_loss: 6.7758e-04 - embedder_loss: 0.0000e+00 - Reconstructor_binary_accuracy: 0.9993\n",
            "Epoch 00005: ReduceLROnPlateau reducing learning rate to 1.0000000474974514e-05.\n",
            "696/696 [==============================] - 18s 26ms/step - loss: 6.7762e-04 - Reconstructor_loss: 6.7762e-04 - embedder_loss: 0.0000e+00 - Reconstructor_binary_accuracy: 0.9993\n",
            "Epoch 6/50\n",
            "694/696 [============================>.] - ETA: 0s - loss: 6.7694e-04 - Reconstructor_loss: 6.7693e-04 - embedder_loss: 0.0000e+00 - Reconstructor_binary_accuracy: 0.9993\n",
            "Epoch 00006: ReduceLROnPlateau reducing learning rate to 1.0000000656873453e-06.\n",
            "696/696 [==============================] - 18s 26ms/step - loss: 6.7697e-04 - Reconstructor_loss: 6.7697e-04 - embedder_loss: 0.0000e+00 - Reconstructor_binary_accuracy: 0.9993\n",
            "Epoch 7/50\n",
            "695/696 [============================>.] - ETA: 0s - loss: 6.7589e-04 - Reconstructor_loss: 6.7589e-04 - embedder_loss: 0.0000e+00 - Reconstructor_binary_accuracy: 0.9993\n",
            "Epoch 00007: ReduceLROnPlateau reducing learning rate to 1.0000001111620805e-07.\n",
            "696/696 [==============================] - 18s 26ms/step - loss: 6.7590e-04 - Reconstructor_loss: 6.7590e-04 - embedder_loss: 0.0000e+00 - Reconstructor_binary_accuracy: 0.9993\n",
            "Epoch 8/50\n",
            "695/696 [============================>.] - ETA: 0s - loss: 6.7676e-04 - Reconstructor_loss: 6.7676e-04 - embedder_loss: 0.0000e+00 - Reconstructor_binary_accuracy: 0.9993\n",
            "Epoch 00008: ReduceLROnPlateau reducing learning rate to 1.000000082740371e-08.\n",
            "696/696 [==============================] - 19s 27ms/step - loss: 6.7679e-04 - Reconstructor_loss: 6.7679e-04 - embedder_loss: 0.0000e+00 - Reconstructor_binary_accuracy: 0.9993\n",
            "Epoch 9/50\n",
            "695/696 [============================>.] - ETA: 0s - loss: 6.7702e-04 - Reconstructor_loss: 6.7702e-04 - embedder_loss: 0.0000e+00 - Reconstructor_binary_accuracy: 0.9993\n",
            "Epoch 00009: ReduceLROnPlateau reducing learning rate to 1.000000082740371e-09.\n",
            "696/696 [==============================] - 19s 27ms/step - loss: 6.7698e-04 - Reconstructor_loss: 6.7698e-04 - embedder_loss: 0.0000e+00 - Reconstructor_binary_accuracy: 0.9993\n",
            "Epoch 10/50\n",
            "695/696 [============================>.] - ETA: 0s - loss: 6.7750e-04 - Reconstructor_loss: 6.7750e-04 - embedder_loss: 0.0000e+00 - Reconstructor_binary_accuracy: 0.9993\n",
            "Epoch 00010: ReduceLROnPlateau reducing learning rate to 1.000000082740371e-10.\n",
            "696/696 [==============================] - 18s 26ms/step - loss: 6.7748e-04 - Reconstructor_loss: 6.7748e-04 - embedder_loss: 0.0000e+00 - Reconstructor_binary_accuracy: 0.9993\n"
          ],
          "name": "stdout"
        }
      ]
    },
    {
      "cell_type": "code",
      "metadata": {
        "id": "0AB8jDqCsfVQ",
        "colab_type": "code",
        "outputId": "0a4dfa77-8b6a-4b90-b08a-edd6078d8586",
        "colab": {
          "base_uri": "https://localhost:8080/",
          "height": 68
        }
      },
      "source": [
        "#execute the evaluate method to have better metrics\n",
        "NB_EPOCHS=1 #ensure that the Dataset will be built only with on\n",
        "my_model.evaluate(BuildTFDataset(pd_matrix.values), verbose=1)"
      ],
      "execution_count": 17,
      "outputs": [
        {
          "output_type": "stream",
          "text": [
            "696/696 [==============================] - 22s 32ms/step\n",
            "696/696 [==============================] - 22s 32ms/step\n"
          ],
          "name": "stdout"
        },
        {
          "output_type": "execute_result",
          "data": {
            "text/plain": [
              "[0.0006770939908583177, 0.0006770939, 0.0, 0.9993267]"
            ]
          },
          "metadata": {
            "tags": []
          },
          "execution_count": 17
        }
      ]
    },
    {
      "cell_type": "code",
      "metadata": {
        "id": "RMl1k0A047Ez",
        "colab_type": "code",
        "colab": {}
      },
      "source": [
        "res = my_model.predict(pd_matrix.values[0,:].reshape(1, -1).astype(np.int32))"
      ],
      "execution_count": 0,
      "outputs": []
    },
    {
      "cell_type": "code",
      "metadata": {
        "id": "Q4IvxEczIZwN",
        "colab_type": "code",
        "colab": {
          "base_uri": "https://localhost:8080/",
          "height": 51
        },
        "outputId": "0b631bf4-1aa2-49b6-9803-9a2481e7ffaa"
      },
      "source": [
        "print('number of ingredients for recipe 0 :', pd_matrix.values[0,:].sum())\n",
        "print('number of ingredients for recipe 0 (reconstruction) :', res[0][0].sum())"
      ],
      "execution_count": 19,
      "outputs": [
        {
          "output_type": "stream",
          "text": [
            "number of ingredients for recipe 0 : 9\n",
            "number of ingredients for recipe 0 (reconstruction) : 6.2339625\n"
          ],
          "name": "stdout"
        }
      ]
    },
    {
      "cell_type": "code",
      "metadata": {
        "id": "W2OgZ-pYFYea",
        "colab_type": "code",
        "outputId": "1b6d918c-71d9-4fd8-b4ae-d9449f237902",
        "colab": {
          "base_uri": "https://localhost:8080/",
          "height": 34
        }
      },
      "source": [
        "res[0].shape"
      ],
      "execution_count": 20,
      "outputs": [
        {
          "output_type": "execute_result",
          "data": {
            "text/plain": [
              "(8, 8023)"
            ]
          },
          "metadata": {
            "tags": []
          },
          "execution_count": 20
        }
      ]
    },
    {
      "cell_type": "code",
      "metadata": {
        "id": "Tsut3gj6FtP3",
        "colab_type": "code",
        "outputId": "b60eebe5-11ff-46b4-a151-eb43556717bc",
        "colab": {
          "base_uri": "https://localhost:8080/",
          "height": 34
        }
      },
      "source": [
        "res[1].shape"
      ],
      "execution_count": 21,
      "outputs": [
        {
          "output_type": "execute_result",
          "data": {
            "text/plain": [
              "(8, 1024)"
            ]
          },
          "metadata": {
            "tags": []
          },
          "execution_count": 21
        }
      ]
    },
    {
      "cell_type": "code",
      "metadata": {
        "id": "z32WemJTIyHq",
        "colab_type": "code",
        "colab": {
          "base_uri": "https://localhost:8080/",
          "height": 34
        },
        "outputId": "7afe20c3-8dc2-4c51-9ebf-6bfe8b921a78"
      },
      "source": [
        "pd_matrix.values.sum(axis=1).mean()"
      ],
      "execution_count": 22,
      "outputs": [
        {
          "output_type": "execute_result",
          "data": {
            "text/plain": [
              "8.991686534092503"
            ]
          },
          "metadata": {
            "tags": []
          },
          "execution_count": 22
        }
      ]
    },
    {
      "cell_type": "code",
      "metadata": {
        "id": "Sk5gwPOnJLwV",
        "colab_type": "code",
        "colab": {}
      },
      "source": [
        ""
      ],
      "execution_count": 0,
      "outputs": []
    }
  ]
}