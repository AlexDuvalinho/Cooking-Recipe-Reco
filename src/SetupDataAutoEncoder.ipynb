{
 "cells": [
  {
   "cell_type": "markdown",
   "metadata": {},
   "source": [
    "# Download Data from Kaggle and perform split:\n",
    "The data comes in 2 files : train, validation and test.\n",
    "Unfortunately, the split performed seems to seperate movies from sets that don't cross over\n",
    "A merge of data and a split is performed according taking in account the temporality: the 20% latest rating from each user will go to test set\n",
    "\n",
    "At end, new train/test files are generated in/Data/generated"
   ]
  },
  {
   "cell_type": "code",
   "execution_count": 1,
   "metadata": {},
   "outputs": [],
   "source": [
    "!pwd"
   ]
  },
  {
   "cell_type": "code",
   "execution_count": 2,
   "metadata": {},
   "outputs": [],
   "source": [
    "import pandas as pd\n",
    "import kaggle as kg\n",
    "import numpy as np\n",
    "from sklearn.model_selection import train_test_split\n",
    "import gc, sys\n",
    "from tqdm import tqdm_notebook as tqdm\n",
    "\n",
    "DATA_FOLDER='../data/'"
   ]
  },
  {
   "cell_type": "code",
   "execution_count": 3,
   "metadata": {},
   "outputs": [
    {
     "name": "stderr",
     "output_type": "stream",
     "text": [
      "  1%|          | 3.00M/267M [00:00<00:09, 28.6MB/s]"
     ]
    },
    {
     "name": "stdout",
     "output_type": "stream",
     "text": [
      "Downloading food-com-recipes-and-user-interactions.zip to ../data\n"
     ]
    },
    {
     "name": "stderr",
     "output_type": "stream",
     "text": [
      "100%|██████████| 267M/267M [00:06<00:00, 40.2MB/s] \n"
     ]
    },
    {
     "name": "stdout",
     "output_type": "stream",
     "text": [
      "\n"
     ]
    }
   ],
   "source": [
    "api = kg.KaggleApi('~/.kaggle/kaggle.json')\n",
    "api.authenticate()\n",
    "api.dataset_download_files('shuyangli94/food-com-recipes-and-user-interactions', DATA_FOLDER,\n",
    "                           quiet=False, unzip=True)"
   ]
  },
  {
   "cell_type": "code",
   "execution_count": 4,
   "metadata": {},
   "outputs": [],
   "source": [
    "df_full_data = pd.concat([pd.read_csv(f'{DATA_FOLDER}interactions_{typ}.csv') \n",
    "                          for typ in ['train', 'validation', 'test']])\n",
    "\n",
    "#convert date column to datetime \n",
    "df_full_data['date'] = pd.to_datetime(df_full_data['date'], format='%Y-%m-%d')"
   ]
  },
  {
   "cell_type": "code",
   "execution_count": 5,
   "metadata": {},
   "outputs": [
    {
     "name": "stdout",
     "output_type": "stream",
     "text": [
      "number of recipes :  178265\n",
      "number of users :  25076\n"
     ]
    }
   ],
   "source": [
    "print('number of recipes : ', len(df_full_data['i'].unique()))\n",
    "print('number of users : ', len(df_full_data['u'].unique()))"
   ]
  },
  {
   "cell_type": "code",
   "execution_count": 6,
   "metadata": {},
   "outputs": [
    {
     "data": {
      "application/vnd.jupyter.widget-view+json": {
       "model_id": "bc128201dc8d4256bd73211aa5e8287c",
       "version_major": 2,
       "version_minor": 0
      },
      "text/plain": [
       "HBox(children=(IntProgress(value=0, description='iterating over users', max=25076, style=ProgressStyle(descrip…"
      ]
     },
     "metadata": {},
     "output_type": "display_data"
    },
    {
     "name": "stdout",
     "output_type": "stream",
     "text": [
      "\n",
      "Starting build of train/test datasets\n",
      "Build completed\n",
      "train set shape is : (718379, 6) deleted ratings number is : 143862 ratio is : 0.20025919465908665\n",
      "test set shape is : (718379, 6) deleted ratings number is : 574517 ratio is : 0.7997408053409134\n"
     ]
    }
   ],
   "source": [
    "##### Approach consists in placing the last ratings given by each user (approx 20%) in the test set. \n",
    "\n",
    "# Start with empty dataframes\n",
    "train_set = pd.DataFrame(columns=['user_id', 'recipe_id', 'date', 'rating', 'u', 'i'])\n",
    "test_set = pd.DataFrame(columns=['user_id', 'recipe_id', 'date', 'rating', 'u', 'i'])\n",
    "\n",
    "train_df_list = []\n",
    "test_df_list = []\n",
    "\n",
    "# Loop over users - add last ratings given by each user to the test set \n",
    "mylist = list(set(df_full_data.u))\n",
    "for item in tqdm(mylist, 'iterating over users'): \n",
    "    subdata = df_full_data[df_full_data['u']==item].sort_values(by='date')  # define a new dataframe for each user\n",
    "    limit = round(0.2 * len(subdata))\n",
    "    head = subdata.head(len(subdata) - limit)\n",
    "    tail = subdata.tail(limit)\n",
    "    train_df_list.append(head.copy())\n",
    "    test_df_list.append(tail.copy())\n",
    "    # put the other part of the data with ratings N/A => ensure that train and test have the same dimension\n",
    "    with pd.option_context('mode.chained_assignment', None):\n",
    "        head['rating']= np.nan\n",
    "        tail['rating']= np.nan\n",
    "    train_df_list.append(tail)\n",
    "    test_df_list.append(head)\n",
    " \n",
    "print(\"Starting build of train/test datasets\")\n",
    "train_set = pd.concat(train_df_list)\n",
    "test_set = pd.concat(test_df_list)\n",
    "print('Build completed')\n",
    "\n",
    "print('train set shape is :',train_set.shape, \n",
    "      'deleted ratings number is :',train_set['rating'].isnull().sum(),\n",
    "     'ratio is :', train_set['rating'].isnull().sum()/len(train_set))\n",
    "print('test set shape is :',test_set.shape, 'deleted ratings number is :',\n",
    "      test_set['rating'].isnull().sum(),\n",
    "     'ratio is :', test_set['rating'].isnull().sum()/len(test_set))\n",
    "    "
   ]
  },
  {
   "cell_type": "code",
   "execution_count": 7,
   "metadata": {},
   "outputs": [
    {
     "name": "stdout",
     "output_type": "stream",
     "text": [
      "Ensure that the value is 0 : 0\n",
      "Nomber of records unfiltered for train : 574517\n",
      "Nomber of records filtered for train : 124321\n"
     ]
    }
   ],
   "source": [
    "#######  Filter sparse recipes and users (not many associated ratings)\n",
    "min_recipe_ratings = 20\n",
    "min_user_ratings = 5\n",
    "\n",
    "# Filter sparse recipes\n",
    "filter_recipes = (train_set.dropna()['i'].value_counts()>min_recipe_ratings)\n",
    "filter_recipes = filter_recipes[filter_recipes].index.tolist() # list of sparse recipes\n",
    "\n",
    "# Create new dataset where these recipes are filtered\n",
    "train_set_filter = train_set[train_set['i'].isin(filter_recipes)]\n",
    "\n",
    "# Filter sparse users\n",
    "filter_users = (train_set_filter.dropna()['u'].value_counts()>min_user_ratings)\n",
    "filter_users = filter_users[filter_users].index.tolist()\n",
    "\n",
    "# Create again new dataset, where users are now filtered\n",
    "# We have do to it sequentially otherwise some users have rated more than 10 recipes but they can all get deleted as each of them was not rated more than 10 times\n",
    "train_set_filter = train_set_filter[train_set_filter['u'].isin(filter_users)]\n",
    "\n",
    "# Every recipe is rated at least 5-6 times. Same for users (more obvious as filtered in 2nd position)\n",
    "print('Ensure that the value is 0 :',(train_set_filter['i'].value_counts().values < min_user_ratings).astype(int).sum())\n",
    "\n",
    "print('Nomber of records unfiltered for train :', len(train_set.dropna()))\n",
    "print('Nomber of records filtered for train :', len(train_set_filter.dropna()))"
   ]
  },
  {
   "cell_type": "code",
   "execution_count": 8,
   "metadata": {},
   "outputs": [
    {
     "name": "stdout",
     "output_type": "stream",
     "text": [
      "Ensure that the value is 0 : 0\n",
      "Nomber of records unfiltered for test : 143862\n",
      "Nomber of records filtered for test : 27662\n"
     ]
    }
   ],
   "source": [
    "#apply same filters apply to train to test\n",
    "test_set_filter = test_set[test_set['i'].isin(filter_recipes)]\n",
    "test_set_filter = test_set_filter[test_set_filter['u'].isin(filter_users)]\n",
    "\n",
    "# Every recipe is rated at least 5-6 times. Same for users (more obvious as filtered in 2nd position)\n",
    "print('Ensure that the value is 0 :',(test_set_filter['i'].value_counts().values < min_user_ratings).astype(int).sum())\n",
    "\n",
    "print('Nomber of records unfiltered for test :', len(test_set.dropna()))\n",
    "print('Nomber of records filtered for test :', len(test_set_filter.dropna()))"
   ]
  },
  {
   "cell_type": "code",
   "execution_count": 9,
   "metadata": {},
   "outputs": [
    {
     "name": "stdout",
     "output_type": "stream",
     "text": [
      "the minimum rating per recipe in train is : 8\n",
      "the minimum rating per user in train is : 6\n",
      "the minimum rating per recipe in test is : 1\n",
      "the minimum rating per user in test is : 1\n"
     ]
    }
   ],
   "source": [
    "#print the minimum number of rating per recipes for train\n",
    "print('the minimum rating per recipe in train is :',\n",
    "      train_set_filter.dropna().groupby(['i'])['rating'].count().sort_values().head(1).values[0])\n",
    "\n",
    "#print the minimum number of rating per user for train\n",
    "print('the minimum rating per user in train is :',\n",
    "      train_set_filter.dropna().groupby(['u'])['rating'].count().sort_values().head(1).values[0])\n",
    "\n",
    "#print the minimum number of rating per recipes for test\n",
    "print('the minimum rating per recipe in test is :',\n",
    "      test_set_filter.dropna().groupby(['i'])['rating'].count().sort_values().head(1).values[0])\n",
    "\n",
    "#print the minimum number of rating per user for test\n",
    "print('the minimum rating per user in test is :',\n",
    "      test_set_filter.dropna().groupby(['u'])['rating'].count().sort_values().head(1).values[0])"
   ]
  },
  {
   "cell_type": "code",
   "execution_count": 10,
   "metadata": {},
   "outputs": [
    {
     "name": "stdout",
     "output_type": "stream",
     "text": [
      "Shape of train User-Movie-Matrix:\t(6384, 3148)\n",
      "Shape of test User-Movie-Matrix:\t(6384, 3148)\n"
     ]
    }
   ],
   "source": [
    "##### Create a user-movie matrix for this approach\n",
    "train_matrix = train_set_filter.pivot_table(index='u', columns='i', values='rating', dropna=False)\n",
    "print(f'Shape of train User-Movie-Matrix:\\t{train_matrix.shape}')\n",
    "\n",
    "test_matrix = test_set_filter.pivot_table(index='u', columns='i', values='rating',dropna=False)\n",
    "print(f'Shape of test User-Movie-Matrix:\\t{test_matrix.shape}')"
   ]
  },
  {
   "cell_type": "markdown",
   "metadata": {},
   "source": [
    "Save the files in 'DATA_FOLDER/data/generated'"
   ]
  },
  {
   "cell_type": "code",
   "execution_count": 11,
   "metadata": {},
   "outputs": [],
   "source": [
    "train_set_filter[['rating', 'u', 'i']].to_csv(f'{DATA_FOLDER}generated/interactions_train_alt.csv',index=False)\n",
    "test_set_filter[['rating', 'u', 'i']].to_csv(f'{DATA_FOLDER}generated/interactions_test_alt.csv', index=False)"
   ]
  },
  {
   "cell_type": "markdown",
   "metadata": {},
   "source": [
    "Ensure that re building matrix provide the same result (size)"
   ]
  },
  {
   "cell_type": "code",
   "execution_count": 12,
   "metadata": {},
   "outputs": [
    {
     "name": "stdout",
     "output_type": "stream",
     "text": [
      "Shape of train User-Movie-Matrix:\t(6384, 3148)\n"
     ]
    }
   ],
   "source": [
    "train_matrix = pd.read_csv('../data/generated/interactions_train_alt.csv').pivot_table(\n",
    "                            index='u', columns='i', values='rating', dropna=False)\n",
    "print(f'Shape of train User-Movie-Matrix:\\t{train_matrix.shape}')"
   ]
  },
  {
   "cell_type": "markdown",
   "metadata": {},
   "source": [
    "#### Merging PP_recipes and RAW_recipes\n",
    "\n",
    "Write them in /data/generated/"
   ]
  },
  {
   "cell_type": "code",
   "execution_count": 13,
   "metadata": {},
   "outputs": [
    {
     "data": {
      "text/html": [
       "<div>\n",
       "<style scoped>\n",
       "    .dataframe tbody tr th:only-of-type {\n",
       "        vertical-align: middle;\n",
       "    }\n",
       "\n",
       "    .dataframe tbody tr th {\n",
       "        vertical-align: top;\n",
       "    }\n",
       "\n",
       "    .dataframe thead th {\n",
       "        text-align: right;\n",
       "    }\n",
       "</style>\n",
       "<table border=\"1\" class=\"dataframe\">\n",
       "  <thead>\n",
       "    <tr style=\"text-align: right;\">\n",
       "      <th></th>\n",
       "      <th>id</th>\n",
       "      <th>i</th>\n",
       "      <th>name_tokens</th>\n",
       "      <th>ingredient_tokens</th>\n",
       "      <th>steps_tokens</th>\n",
       "      <th>techniques</th>\n",
       "      <th>calorie_level</th>\n",
       "      <th>ingredient_ids</th>\n",
       "      <th>name</th>\n",
       "      <th>minutes</th>\n",
       "      <th>contributor_id</th>\n",
       "      <th>submitted</th>\n",
       "      <th>tags</th>\n",
       "      <th>nutrition</th>\n",
       "      <th>n_steps</th>\n",
       "      <th>steps</th>\n",
       "      <th>description</th>\n",
       "      <th>ingredients</th>\n",
       "      <th>n_ingredients</th>\n",
       "    </tr>\n",
       "  </thead>\n",
       "  <tbody>\n",
       "    <tr>\n",
       "      <th>0</th>\n",
       "      <td>424415</td>\n",
       "      <td>23</td>\n",
       "      <td>[40480, 37229, 2911, 1019, 249, 6878, 6878, 28...</td>\n",
       "      <td>[[2911, 1019, 249, 6878], [1353], [6953], [153...</td>\n",
       "      <td>[40480, 40482, 21662, 481, 6878, 500, 246, 161...</td>\n",
       "      <td>[0, 0, 0, 0, 0, 0, 0, 0, 0, 1, 0, 0, 0, 0, 0, ...</td>\n",
       "      <td>0</td>\n",
       "      <td>[389, 7655, 6270, 1527, 3406]</td>\n",
       "      <td>aromatic basmati rice  rice cooker</td>\n",
       "      <td>61</td>\n",
       "      <td>496803</td>\n",
       "      <td>2010-05-10</td>\n",
       "      <td>['weeknight', 'time-to-make', 'course', 'main-...</td>\n",
       "      <td>[228.2, 2.0, 2.0, 8.0, 9.0, 1.0, 15.0]</td>\n",
       "      <td>6</td>\n",
       "      <td>['rinse the rice in a fine strainer , then dra...</td>\n",
       "      <td>from the ultimate rice cooker cookbook.  the a...</td>\n",
       "      <td>['basmati rice', 'water', 'salt', 'cinnamon st...</td>\n",
       "      <td>5</td>\n",
       "    </tr>\n",
       "    <tr>\n",
       "      <th>1</th>\n",
       "      <td>146223</td>\n",
       "      <td>96900</td>\n",
       "      <td>[40480, 18376, 7056, 246, 1531, 2032, 40481]</td>\n",
       "      <td>[[17918], [25916], [2507, 6444], [8467, 1179],...</td>\n",
       "      <td>[40480, 40482, 729, 2525, 10906, 485, 43, 8393...</td>\n",
       "      <td>[1, 0, 0, 0, 0, 0, 0, 0, 0, 1, 0, 0, 0, 0, 0, ...</td>\n",
       "      <td>0</td>\n",
       "      <td>[2683, 4969, 800, 5298, 840, 2499, 6632, 7022,...</td>\n",
       "      <td>pumpkin pie a la easy</td>\n",
       "      <td>55</td>\n",
       "      <td>229619</td>\n",
       "      <td>2005-11-25</td>\n",
       "      <td>['60-minutes-or-less', 'time-to-make', 'course...</td>\n",
       "      <td>[249.4, 16.0, 92.0, 8.0, 11.0, 27.0, 11.0]</td>\n",
       "      <td>10</td>\n",
       "      <td>['preheat oven to 350', 'combine flour , oats ...</td>\n",
       "      <td>this is a pampered chef recipe for their stone...</td>\n",
       "      <td>['flour', 'oats', 'brown sugar', 'pecans', 'bu...</td>\n",
       "      <td>12</td>\n",
       "    </tr>\n",
       "    <tr>\n",
       "      <th>2</th>\n",
       "      <td>312329</td>\n",
       "      <td>120056</td>\n",
       "      <td>[40480, 21044, 16954, 8294, 556, 10837, 40481]</td>\n",
       "      <td>[[5867, 24176], [1353], [6953], [1301, 11332],...</td>\n",
       "      <td>[40480, 40482, 8240, 481, 24176, 296, 1353, 66...</td>\n",
       "      <td>[0, 0, 0, 0, 1, 0, 0, 0, 0, 0, 0, 1, 0, 0, 0, ...</td>\n",
       "      <td>1</td>\n",
       "      <td>[1257, 7655, 6270, 590, 5024, 1119, 4883, 6696...</td>\n",
       "      <td>cheesy tomato soup with potatoes</td>\n",
       "      <td>25</td>\n",
       "      <td>621626</td>\n",
       "      <td>2008-07-07</td>\n",
       "      <td>['30-minutes-or-less', 'time-to-make', 'course...</td>\n",
       "      <td>[351.3, 34.0, 15.0, 50.0, 25.0, 70.0, 8.0]</td>\n",
       "      <td>6</td>\n",
       "      <td>['pour the broth &amp; water into a large pot', 'a...</td>\n",
       "      <td>after modifying another recipe i came up with ...</td>\n",
       "      <td>['chicken broth', 'water', 'salt', 'black pepp...</td>\n",
       "      <td>15</td>\n",
       "    </tr>\n",
       "  </tbody>\n",
       "</table>\n",
       "</div>"
      ],
      "text/plain": [
       "       id       i                                        name_tokens  \\\n",
       "0  424415      23  [40480, 37229, 2911, 1019, 249, 6878, 6878, 28...   \n",
       "1  146223   96900       [40480, 18376, 7056, 246, 1531, 2032, 40481]   \n",
       "2  312329  120056     [40480, 21044, 16954, 8294, 556, 10837, 40481]   \n",
       "\n",
       "                                   ingredient_tokens  \\\n",
       "0  [[2911, 1019, 249, 6878], [1353], [6953], [153...   \n",
       "1  [[17918], [25916], [2507, 6444], [8467, 1179],...   \n",
       "2  [[5867, 24176], [1353], [6953], [1301, 11332],...   \n",
       "\n",
       "                                        steps_tokens  \\\n",
       "0  [40480, 40482, 21662, 481, 6878, 500, 246, 161...   \n",
       "1  [40480, 40482, 729, 2525, 10906, 485, 43, 8393...   \n",
       "2  [40480, 40482, 8240, 481, 24176, 296, 1353, 66...   \n",
       "\n",
       "                                          techniques  calorie_level  \\\n",
       "0  [0, 0, 0, 0, 0, 0, 0, 0, 0, 1, 0, 0, 0, 0, 0, ...              0   \n",
       "1  [1, 0, 0, 0, 0, 0, 0, 0, 0, 1, 0, 0, 0, 0, 0, ...              0   \n",
       "2  [0, 0, 0, 0, 1, 0, 0, 0, 0, 0, 0, 1, 0, 0, 0, ...              1   \n",
       "\n",
       "                                      ingredient_ids  \\\n",
       "0                      [389, 7655, 6270, 1527, 3406]   \n",
       "1  [2683, 4969, 800, 5298, 840, 2499, 6632, 7022,...   \n",
       "2  [1257, 7655, 6270, 590, 5024, 1119, 4883, 6696...   \n",
       "\n",
       "                                 name  minutes  contributor_id   submitted  \\\n",
       "0  aromatic basmati rice  rice cooker       61          496803  2010-05-10   \n",
       "1               pumpkin pie a la easy       55          229619  2005-11-25   \n",
       "2    cheesy tomato soup with potatoes       25          621626  2008-07-07   \n",
       "\n",
       "                                                tags  \\\n",
       "0  ['weeknight', 'time-to-make', 'course', 'main-...   \n",
       "1  ['60-minutes-or-less', 'time-to-make', 'course...   \n",
       "2  ['30-minutes-or-less', 'time-to-make', 'course...   \n",
       "\n",
       "                                    nutrition  n_steps  \\\n",
       "0      [228.2, 2.0, 2.0, 8.0, 9.0, 1.0, 15.0]        6   \n",
       "1  [249.4, 16.0, 92.0, 8.0, 11.0, 27.0, 11.0]       10   \n",
       "2  [351.3, 34.0, 15.0, 50.0, 25.0, 70.0, 8.0]        6   \n",
       "\n",
       "                                               steps  \\\n",
       "0  ['rinse the rice in a fine strainer , then dra...   \n",
       "1  ['preheat oven to 350', 'combine flour , oats ...   \n",
       "2  ['pour the broth & water into a large pot', 'a...   \n",
       "\n",
       "                                         description  \\\n",
       "0  from the ultimate rice cooker cookbook.  the a...   \n",
       "1  this is a pampered chef recipe for their stone...   \n",
       "2  after modifying another recipe i came up with ...   \n",
       "\n",
       "                                         ingredients  n_ingredients  \n",
       "0  ['basmati rice', 'water', 'salt', 'cinnamon st...              5  \n",
       "1  ['flour', 'oats', 'brown sugar', 'pecans', 'bu...             12  \n",
       "2  ['chicken broth', 'water', 'salt', 'black pepp...             15  "
      ]
     },
     "metadata": {},
     "output_type": "display_data"
    }
   ],
   "source": [
    "pp_recipes = pd.read_csv('../data/PP_recipes.csv')\n",
    "raw_recipes = pd.read_csv('../data/RAW_recipes.csv')\n",
    "\n",
    "new_recipes = pp_recipes.join(raw_recipes.set_index(['id']), on='id', how = 'left')\n",
    "\n",
    "display(new_recipes.head(3))\n",
    "\n",
    "new_recipes.to_csv(f'{DATA_FOLDER}generated/recipes.csv', index=False)"
   ]
  },
  {
   "cell_type": "code",
   "execution_count": 14,
   "metadata": {},
   "outputs": [
    {
     "data": {
      "text/plain": [
       "[('new_recipes', 538071181),\n",
       " ('raw_recipes', 388410531),\n",
       " ('pp_recipes', 254454202),\n",
       " ('test_matrix', 160825760),\n",
       " ('train_matrix', 160825760),\n",
       " ('df_full_data', 40229256),\n",
       " ('test_set', 40229256),\n",
       " ('train_set', 40229256),\n",
       " ('test_set_filter', 8511080),\n",
       " ('train_set_filter', 8511080),\n",
       " ('test_df_list', 406504),\n",
       " ('train_df_list', 406504),\n",
       " ('mylist', 225800),\n",
       " ('filter_users', 51144),\n",
       " ('filter_recipes', 25256),\n",
       " ('_i6', 1674),\n",
       " ('_i7', 1314),\n",
       " ('_i9', 871),\n",
       " ('_i8', 604),\n",
       " ('_i10', 425),\n",
       " ('_i', 339),\n",
       " ('_i13', 339),\n",
       " ('_i4', 312),\n",
       " ('_i12', 285),\n",
       " ('_ii', 285),\n",
       " ('_i11', 271),\n",
       " ('_iii', 271),\n",
       " ('_i3', 257),\n",
       " ('Out', 248),\n",
       " ('_oh', 248),\n",
       " ('_i2', 238),\n",
       " ('In', 200),\n",
       " ('_ih', 200),\n",
       " ('_i5', 172),\n",
       " ('_i14', 167),\n",
       " ('head', 144),\n",
       " ('subdata', 144),\n",
       " ('tqdm', 144),\n",
       " ('train_test_split', 144),\n",
       " ('__doc__', 113),\n",
       " ('__builtin__', 88),\n",
       " ('__builtins__', 88),\n",
       " ('gc', 88),\n",
       " ('kg', 88),\n",
       " ('np', 88),\n",
       " ('pd', 88),\n",
       " ('sys', 88),\n",
       " ('_dh', 80),\n",
       " ('get_ipython', 72),\n",
       " ('api', 64),\n",
       " ('exit', 64),\n",
       " ('quit', 64),\n",
       " ('DATA_FOLDER', 57),\n",
       " ('__name__', 57),\n",
       " ('_', 53),\n",
       " ('__', 53),\n",
       " ('___', 53),\n",
       " ('_i1', 53),\n",
       " ('tail', 32),\n",
       " ('item', 28),\n",
       " ('min_recipe_ratings', 28),\n",
       " ('min_user_ratings', 28),\n",
       " ('_exit_code', 24),\n",
       " ('limit', 24),\n",
       " ('__loader__', 16),\n",
       " ('__package__', 16),\n",
       " ('__spec__', 16)]"
      ]
     },
     "execution_count": 14,
     "metadata": {},
     "output_type": "execute_result"
    }
   ],
   "source": [
    "#show object in memory\n",
    "sorted([(x, sys.getsizeof(globals().get(x))) for x in dir()], key=lambda x: x[1], reverse=True)"
   ]
  },
  {
   "cell_type": "code",
   "execution_count": null,
   "metadata": {},
   "outputs": [],
   "source": []
  }
 ],
 "metadata": {
  "kernelspec": {
   "display_name": "Python 3",
   "language": "python",
   "name": "python3"
  },
  "language_info": {
   "codemirror_mode": {
    "name": "ipython",
    "version": 3
   },
   "file_extension": ".py",
   "mimetype": "text/x-python",
   "name": "python",
   "nbconvert_exporter": "python",
   "pygments_lexer": "ipython3",
   "version": "3.7.5"
  }
 },
 "nbformat": 4,
 "nbformat_minor": 2
}
