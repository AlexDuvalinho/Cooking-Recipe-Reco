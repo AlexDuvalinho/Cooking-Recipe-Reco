{
  "nbformat": 4,
  "nbformat_minor": 0,
  "metadata": {
    "kernelspec": {
      "name": "python3",
      "display_name": "Python 3"
    },
    "language_info": {
      "codemirror_mode": {
        "name": "ipython",
        "version": 3
      },
      "file_extension": ".py",
      "mimetype": "text/x-python",
      "name": "python",
      "nbconvert_exporter": "python",
      "pygments_lexer": "ipython3",
      "version": "3.7.4"
    },
    "colab": {
      "name": "AutoEncoderColabv2GS.ipynb",
      "provenance": [],
      "collapsed_sections": [],
      "machine_shape": "hm"
    },
    "accelerator": "GPU"
  },
  "cells": [
    {
      "cell_type": "code",
      "metadata": {
        "id": "fm5e2HVPmN3U",
        "colab_type": "code",
        "colab": {}
      },
      "source": [
        "NB_EPOCHS = 300\n",
        "BATCH_SIZE = 256\n",
        "KFOLD = 5"
      ],
      "execution_count": 0,
      "outputs": []
    },
    {
      "cell_type": "code",
      "metadata": {
        "id": "TllH6ltlvUw_",
        "colab_type": "code",
        "colab": {
          "base_uri": "https://localhost:8080/",
          "height": 34
        },
        "outputId": "5eceb723-6c28-46ec-cb0e-83e90ff6cc61"
      },
      "source": [
        "%tensorflow_version 2.x"
      ],
      "execution_count": 2,
      "outputs": [
        {
          "output_type": "stream",
          "text": [
            "TensorFlow 2.x selected.\n"
          ],
          "name": "stdout"
        }
      ]
    },
    {
      "cell_type": "code",
      "metadata": {
        "id": "nphri6Ca47EZ",
        "colab_type": "code",
        "outputId": "99650c3e-3ce3-4154-9145-edcd33549944",
        "colab": {
          "base_uri": "https://localhost:8080/",
          "height": 34
        }
      },
      "source": [
        "import numpy as np\n",
        "import tensorflow as tf\n",
        "import pandas as pd\n",
        "import gc, sys\n",
        "from tqdm import tqdm_notebook as tqdm\n",
        "import matplotlib.pyplot as plt\n",
        "from sklearn.model_selection import KFold\n",
        "\n",
        "tf.__version__"
      ],
      "execution_count": 3,
      "outputs": [
        {
          "output_type": "execute_result",
          "data": {
            "text/plain": [
              "'2.0.0'"
            ]
          },
          "metadata": {
            "tags": []
          },
          "execution_count": 3
        }
      ]
    },
    {
      "cell_type": "markdown",
      "metadata": {
        "id": "l6EW_3O880er",
        "colab_type": "text"
      },
      "source": [
        "##Rebuild train and test sets from input files\n",
        "1. upload the interactions_train.csv and interactions_test.csv\n",
        "2. execute next cell"
      ]
    },
    {
      "cell_type": "code",
      "metadata": {
        "id": "dudoYTbY7AsN",
        "colab_type": "code",
        "outputId": "477692ef-327c-4389-e408-6bb71ec2216b",
        "colab": {
          "base_uri": "https://localhost:8080/",
          "height": 51
        }
      },
      "source": [
        "train_matrix = pd.read_csv('./interactions_train_alt.csv').pivot_table(index='u', columns='i', values='rating', dropna=False)\n",
        "print(f'Shape of train User-Movie-Matrix:\\t{train_matrix.shape}')\n",
        "test_matrix = pd.read_csv('./interactions_test_alt.csv').pivot_table(index='u', columns='i', values='rating', dropna=False)\n",
        "print(f'Shape of test User-Movie-Matrix:\\t{test_matrix.shape}')"
      ],
      "execution_count": 4,
      "outputs": [
        {
          "output_type": "stream",
          "text": [
            "Shape of train User-Movie-Matrix:\t(6384, 3148)\n",
            "Shape of test User-Movie-Matrix:\t(6384, 3148)\n"
          ],
          "name": "stdout"
        }
      ]
    },
    {
      "cell_type": "code",
      "metadata": {
        "id": "t8JLtKsl6G0I",
        "colab_type": "code",
        "colab": {}
      },
      "source": [
        "#remplace rating from 0 to 5 to a boolean information : > 3 like (1), otherwise dislike (0)\n",
        "train_matrix = train_matrix.applymap(lambda x : x if np.isnan(x) else int(x>3))\n",
        "test_matrix = test_matrix.applymap(lambda x : x if np.isnan(x) else int(x>3))"
      ],
      "execution_count": 0,
      "outputs": []
    },
    {
      "cell_type": "code",
      "metadata": {
        "id": "YyxyBG3ZJtL2",
        "colab_type": "code",
        "colab": {}
      },
      "source": [
        "#replace all missing rating by -1 (as rating are from 0 to 5)\n",
        "#the -1 will be then used in the model loss function as a mask\n",
        "train_matrix.fillna(-1, inplace=True)\n",
        "test_matrix.fillna(-1, inplace=True)"
      ],
      "execution_count": 0,
      "outputs": []
    },
    {
      "cell_type": "markdown",
      "metadata": {
        "id": "pgodR4fRqivw",
        "colab_type": "text"
      },
      "source": [
        "#Build the model"
      ]
    },
    {
      "cell_type": "code",
      "metadata": {
        "id": "1-a7uprC47Er",
        "colab_type": "code",
        "colab": {}
      },
      "source": [
        "def BuildAEModel(n_recipes, emb_dim = 256, activation=None):\n",
        "    inputs = tf.keras.layers.Input((n_recipes,))\n",
        "    #encoded_layer1 = tf.keras.layers.Dense(8192,activation=None, name='Encoder_Layer_1')(inputs)\n",
        "    #encoded_layer2 = tf.keras.layers.Dense(4096,activation=None, name='Encoder_Layer_2')(inputs)\n",
        "    #encoded_layer3 = tf.keras.layers.Dense(2048,activation=None, name='Encoder_Layer_3')(encoded_layer2)\n",
        "    \n",
        "    embedded = tf.keras.layers.Dense(emb_dim,activation=activation, name='embedder')(inputs)\n",
        "    \n",
        "    #decoded_layer1 = tf.keras.layers.Dense(2048,activation=None, name='Decoder_Layer_1')(embedded)\n",
        "    #decoded_layer2 = tf.keras.layers.Dense(4096,activation=None, name='Decoder_Layer_2')(embedded)\n",
        "    #decoded_layer3 = tf.keras.layers.Dense(8192,activation=None, name='Decoder_Layer_3')(decoded_layer2)\n",
        "    \n",
        "    outputs = tf.keras.layers.Dense(n_recipes, activation='linear', name = 'Reconstructor')(embedded)\n",
        "    \n",
        "    model = tf.keras.Model(inputs=inputs, outputs = [outputs])\n",
        "    return model"
      ],
      "execution_count": 0,
      "outputs": []
    },
    {
      "cell_type": "markdown",
      "metadata": {
        "id": "5YRT-uyBKKmM",
        "colab_type": "text"
      },
      "source": [
        "## define a specific loss function \n",
        "- to compare recipes rating for only rated recipes, ie recipes that have values <> -1\n",
        "- For those recipes, mse will be computed"
      ]
    },
    {
      "cell_type": "code",
      "metadata": {
        "id": "eawawamXKwD8",
        "colab_type": "code",
        "colab": {}
      },
      "source": [
        "def customMaskedMSE(ytrue, ypred):\n",
        "  mask = tf.not_equal(ytrue, -1)\n",
        "  return tf.keras.backend.mean(tf.keras.backend.square(tf.boolean_mask(ytrue - ypred, mask)))\n",
        "\n",
        "def customMaskedMAE(ytrue, ypred):\n",
        "  mask = tf.not_equal(ytrue, -1)\n",
        "  return tf.keras.backend.mean(tf.keras.backend.abs(tf.boolean_mask(ytrue - ypred, mask)))"
      ],
      "execution_count": 0,
      "outputs": []
    },
    {
      "cell_type": "markdown",
      "metadata": {
        "id": "-ZsGw1D-FXgi",
        "colab_type": "text"
      },
      "source": [
        "## start the training\n",
        "- Kfold validation"
      ]
    },
    {
      "cell_type": "code",
      "metadata": {
        "id": "K1o-pTcKAZZ_",
        "colab_type": "code",
        "outputId": "3513d277-8e12-419d-9a3f-ace530f57d31",
        "colab": {
          "base_uri": "https://localhost:8080/",
          "height": 136
        }
      },
      "source": [
        "kf = KFold(n_splits=KFOLD, random_state=689)\n",
        "results = []\n",
        "\n",
        "for em_dim in [1, 2, 4, 8, 16, 32, 64, 128, 256, 512, 1024]:\n",
        "  for train_index, test_index in kf.split(train_matrix):\n",
        "    X_train, X_test = train_matrix.iloc[train_index,:], train_matrix.iloc[test_index,:]\n",
        "\n",
        "    my_model = BuildAEModel(train_matrix.shape[1], em_dim, 'relu')\n",
        "    adam = tf.keras.optimizers.Adam(0.001)\n",
        "    my_model.compile('adam',loss=customMaskedMSE)\n",
        "\n",
        "    my_model.fit(X_train.values, X_train.values,\n",
        "                      epochs=NB_EPOCHS, batch_size=BATCH_SIZE, verbose = 0)\n",
        "    results.append(my_model.evaluate(X_test.values, X_test.values, batch_size=BATCH_SIZE, verbose = 0))\n",
        "    print(results[-1])\n",
        "\n",
        "  print('CV score for emdim', em_dim,'is :', np.mean(results))\n"
      ],
      "execution_count": 0,
      "outputs": [
        {
          "output_type": "stream",
          "text": [
            "0.06568300317952477\n",
            "0.06950888140951178\n",
            "0.07243408628549068\n",
            "0.07258840512043811\n",
            "0.07293607236169349\n",
            "CV score for emdim 1 is : 0.07063008967133176\n",
            "0.0762519050001538\n"
          ],
          "name": "stdout"
        }
      ]
    },
    {
      "cell_type": "code",
      "metadata": {
        "id": "3AL6L34yLqzz",
        "colab_type": "code",
        "colab": {}
      },
      "source": [
        ""
      ],
      "execution_count": 0,
      "outputs": []
    }
  ]
}