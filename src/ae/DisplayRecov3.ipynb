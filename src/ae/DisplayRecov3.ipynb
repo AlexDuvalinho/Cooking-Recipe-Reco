{
 "cells": [
  {
   "cell_type": "code",
   "execution_count": 1,
   "metadata": {},
   "outputs": [
    {
     "name": "stderr",
     "output_type": "stream",
     "text": [
      "/Users/seb/.local/lib/python3.7/site-packages/tensorboard/compat/tensorflow_stub/dtypes.py:541: FutureWarning: Passing (type, 1) or '1type' as a synonym of type is deprecated; in a future version of numpy, it will be understood as (type, (1,)) / '(1,)type'.\n",
      "  _np_qint8 = np.dtype([(\"qint8\", np.int8, 1)])\n",
      "/Users/seb/.local/lib/python3.7/site-packages/tensorboard/compat/tensorflow_stub/dtypes.py:542: FutureWarning: Passing (type, 1) or '1type' as a synonym of type is deprecated; in a future version of numpy, it will be understood as (type, (1,)) / '(1,)type'.\n",
      "  _np_quint8 = np.dtype([(\"quint8\", np.uint8, 1)])\n",
      "/Users/seb/.local/lib/python3.7/site-packages/tensorboard/compat/tensorflow_stub/dtypes.py:543: FutureWarning: Passing (type, 1) or '1type' as a synonym of type is deprecated; in a future version of numpy, it will be understood as (type, (1,)) / '(1,)type'.\n",
      "  _np_qint16 = np.dtype([(\"qint16\", np.int16, 1)])\n",
      "/Users/seb/.local/lib/python3.7/site-packages/tensorboard/compat/tensorflow_stub/dtypes.py:544: FutureWarning: Passing (type, 1) or '1type' as a synonym of type is deprecated; in a future version of numpy, it will be understood as (type, (1,)) / '(1,)type'.\n",
      "  _np_quint16 = np.dtype([(\"quint16\", np.uint16, 1)])\n",
      "/Users/seb/.local/lib/python3.7/site-packages/tensorboard/compat/tensorflow_stub/dtypes.py:545: FutureWarning: Passing (type, 1) or '1type' as a synonym of type is deprecated; in a future version of numpy, it will be understood as (type, (1,)) / '(1,)type'.\n",
      "  _np_qint32 = np.dtype([(\"qint32\", np.int32, 1)])\n",
      "/Users/seb/.local/lib/python3.7/site-packages/tensorboard/compat/tensorflow_stub/dtypes.py:550: FutureWarning: Passing (type, 1) or '1type' as a synonym of type is deprecated; in a future version of numpy, it will be understood as (type, (1,)) / '(1,)type'.\n",
      "  np_resource = np.dtype([(\"resource\", np.ubyte, 1)])\n"
     ]
    },
    {
     "data": {
      "text/plain": [
       "'2.0.0'"
      ]
     },
     "execution_count": 1,
     "metadata": {},
     "output_type": "execute_result"
    }
   ],
   "source": [
    "import pandas as pd\n",
    "import numpy as np\n",
    "import tensorflow as tf\n",
    "\n",
    "tf.__version__"
   ]
  },
  {
   "cell_type": "markdown",
   "metadata": {},
   "source": [
    "## Load Data"
   ]
  },
  {
   "cell_type": "code",
   "execution_count": 2,
   "metadata": {},
   "outputs": [
    {
     "name": "stdout",
     "output_type": "stream",
     "text": [
      "Shape of fullMatrix User-Movie-Matrix:\t(6384, 3148)\n"
     ]
    }
   ],
   "source": [
    "train_set=pd.read_csv('../../data/generated/interactions_train_alt.csv').dropna()\n",
    "test_matrix=pd.read_csv('../../data/generated/interactions_test_alt.csv').dropna()\n",
    "recipes = pd.read_csv('../../data/generated/recipes.csv')\n",
    "\n",
    "full_data = pd.concat([train_set, test_matrix])\n",
    "\n",
    "full_matrix = full_data.pivot_table(index='u', columns='i', values='rating', dropna=False)\n",
    "print(f'Shape of fullMatrix User-Movie-Matrix:\\t{full_matrix.shape}')"
   ]
  },
  {
   "cell_type": "code",
   "execution_count": 3,
   "metadata": {},
   "outputs": [],
   "source": [
    "#remplace rating from 0 to 5 to a boolean information : > 3 like (1), otherwise dislike (0)\n",
    "full_matrix = full_matrix.applymap(lambda x : x if np.isnan(x) else int(x>3))"
   ]
  },
  {
   "cell_type": "code",
   "execution_count": 4,
   "metadata": {},
   "outputs": [],
   "source": [
    "#replace all missing rating by -1 (as rating are from 0 to 5)\n",
    "#the -1 will be then used in the model loss function as a mask\n",
    "full_matrix.fillna(-1, inplace=True)"
   ]
  },
  {
   "cell_type": "markdown",
   "metadata": {},
   "source": [
    "## Load the model trained on Colab"
   ]
  },
  {
   "cell_type": "code",
   "execution_count": 5,
   "metadata": {},
   "outputs": [
    {
     "name": "stderr",
     "output_type": "stream",
     "text": [
      "WARNING: Logging before flag parsing goes to stderr.\n",
      "W1127 22:50:36.899568 4652324288 hdf5_format.py:177] No training configuration found in save file: the model was *not* compiled. Compile it manually.\n"
     ]
    }
   ],
   "source": [
    "my_model = tf.keras.models.load_model('ae_v3.h5')"
   ]
  },
  {
   "cell_type": "markdown",
   "metadata": {},
   "source": [
    "## get recommandations from one user"
   ]
  },
  {
   "cell_type": "code",
   "execution_count": 13,
   "metadata": {},
   "outputs": [],
   "source": [
    "#getting user ratings\n",
    "#id = 24240\n",
    "id=33\n",
    "\n",
    "user = full_matrix[full_matrix.index == id].T\n",
    "user_ratings = user[user[id]!=-1]\n"
   ]
  },
  {
   "cell_type": "code",
   "execution_count": 14,
   "metadata": {},
   "outputs": [
    {
     "name": "stdout",
     "output_type": "stream",
     "text": [
      "\r",
      "1/1 [==============================] - 0s 2ms/sample\n"
     ]
    }
   ],
   "source": [
    "#get predictions from model\n",
    "user = full_matrix[full_matrix.index == id].values\n",
    "preds = my_model.predict(user, verbose=1)\n",
    "preds = pd.DataFrame(preds, columns = full_matrix.columns)"
   ]
  },
  {
   "cell_type": "code",
   "execution_count": 15,
   "metadata": {},
   "outputs": [
    {
     "name": "stdout",
     "output_type": "stream",
     "text": [
      "recipes rated by user in set\n",
      "MSE for user 33 : 0.017404567298738714\n"
     ]
    },
    {
     "data": {
      "text/html": [
       "<div>\n",
       "<style scoped>\n",
       "    .dataframe tbody tr th:only-of-type {\n",
       "        vertical-align: middle;\n",
       "    }\n",
       "\n",
       "    .dataframe tbody tr th {\n",
       "        vertical-align: top;\n",
       "    }\n",
       "\n",
       "    .dataframe thead th {\n",
       "        text-align: right;\n",
       "    }\n",
       "</style>\n",
       "<table border=\"1\" class=\"dataframe\">\n",
       "  <thead>\n",
       "    <tr style=\"text-align: right;\">\n",
       "      <th></th>\n",
       "      <th>name</th>\n",
       "      <th>rating</th>\n",
       "      <th>pred</th>\n",
       "    </tr>\n",
       "    <tr>\n",
       "      <th>i</th>\n",
       "      <th></th>\n",
       "      <th></th>\n",
       "      <th></th>\n",
       "    </tr>\n",
       "  </thead>\n",
       "  <tbody>\n",
       "    <tr>\n",
       "      <th>97450</th>\n",
       "      <td>roasted parmesan garlic cauliflower</td>\n",
       "      <td>1.0</td>\n",
       "      <td>1.052626</td>\n",
       "    </tr>\n",
       "    <tr>\n",
       "      <th>149428</th>\n",
       "      <td>wonderful salsa</td>\n",
       "      <td>1.0</td>\n",
       "      <td>1.017623</td>\n",
       "    </tr>\n",
       "    <tr>\n",
       "      <th>129723</th>\n",
       "      <td>spinach garlic pizza</td>\n",
       "      <td>1.0</td>\n",
       "      <td>1.016191</td>\n",
       "    </tr>\n",
       "    <tr>\n",
       "      <th>2949</th>\n",
       "      <td>oreo balls</td>\n",
       "      <td>1.0</td>\n",
       "      <td>1.010944</td>\n",
       "    </tr>\n",
       "    <tr>\n",
       "      <th>78451</th>\n",
       "      <td>crispy coconut chicken fingers</td>\n",
       "      <td>1.0</td>\n",
       "      <td>0.989550</td>\n",
       "    </tr>\n",
       "    <tr>\n",
       "      <th>87565</th>\n",
       "      <td>chicken pesto</td>\n",
       "      <td>1.0</td>\n",
       "      <td>0.984327</td>\n",
       "    </tr>\n",
       "    <tr>\n",
       "      <th>135400</th>\n",
       "      <td>payday bars</td>\n",
       "      <td>1.0</td>\n",
       "      <td>0.974475</td>\n",
       "    </tr>\n",
       "    <tr>\n",
       "      <th>101200</th>\n",
       "      <td>tortellini tomato spinach soup</td>\n",
       "      <td>1.0</td>\n",
       "      <td>0.955344</td>\n",
       "    </tr>\n",
       "    <tr>\n",
       "      <th>19812</th>\n",
       "      <td>simply sour cream chicken enchiladas</td>\n",
       "      <td>1.0</td>\n",
       "      <td>0.943128</td>\n",
       "    </tr>\n",
       "    <tr>\n",
       "      <th>72296</th>\n",
       "      <td>ziti pepperoni casserole</td>\n",
       "      <td>1.0</td>\n",
       "      <td>0.922793</td>\n",
       "    </tr>\n",
       "    <tr>\n",
       "      <th>166633</th>\n",
       "      <td>pumpkin cream cheese muffins  like starbucks</td>\n",
       "      <td>1.0</td>\n",
       "      <td>0.900823</td>\n",
       "    </tr>\n",
       "    <tr>\n",
       "      <th>134610</th>\n",
       "      <td>crock pot chicken with black beans   cream cheese</td>\n",
       "      <td>1.0</td>\n",
       "      <td>0.701446</td>\n",
       "    </tr>\n",
       "    <tr>\n",
       "      <th>164348</th>\n",
       "      <td>new mexico style chili chicken casserole</td>\n",
       "      <td>0.0</td>\n",
       "      <td>0.402908</td>\n",
       "    </tr>\n",
       "    <tr>\n",
       "      <th>83310</th>\n",
       "      <td>1 2 3 4  tater tot casserole</td>\n",
       "      <td>0.0</td>\n",
       "      <td>0.033851</td>\n",
       "    </tr>\n",
       "    <tr>\n",
       "      <th>69992</th>\n",
       "      <td>they won t know raspberry coffee cake</td>\n",
       "      <td>0.0</td>\n",
       "      <td>-0.007273</td>\n",
       "    </tr>\n",
       "    <tr>\n",
       "      <th>13616</th>\n",
       "      <td>tofu egg salad</td>\n",
       "      <td>0.0</td>\n",
       "      <td>-0.017638</td>\n",
       "    </tr>\n",
       "  </tbody>\n",
       "</table>\n",
       "</div>"
      ],
      "text/plain": [
       "                                                     name  rating      pred\n",
       "i                                                                          \n",
       "97450                 roasted parmesan garlic cauliflower     1.0  1.052626\n",
       "149428                                    wonderful salsa     1.0  1.017623\n",
       "129723                               spinach garlic pizza     1.0  1.016191\n",
       "2949                                           oreo balls     1.0  1.010944\n",
       "78451                      crispy coconut chicken fingers     1.0  0.989550\n",
       "87565                                       chicken pesto     1.0  0.984327\n",
       "135400                                        payday bars     1.0  0.974475\n",
       "101200                     tortellini tomato spinach soup     1.0  0.955344\n",
       "19812                simply sour cream chicken enchiladas     1.0  0.943128\n",
       "72296                            ziti pepperoni casserole     1.0  0.922793\n",
       "166633       pumpkin cream cheese muffins  like starbucks     1.0  0.900823\n",
       "134610  crock pot chicken with black beans   cream cheese     1.0  0.701446\n",
       "164348           new mexico style chili chicken casserole     0.0  0.402908\n",
       "83310                        1 2 3 4  tater tot casserole     0.0  0.033851\n",
       "69992               they won t know raspberry coffee cake     0.0 -0.007273\n",
       "13616                                      tofu egg salad     0.0 -0.017638"
      ]
     },
     "metadata": {},
     "output_type": "display_data"
    }
   ],
   "source": [
    "print('recipes rated by user in set')\n",
    "\n",
    "summary = user_ratings.join(recipes[recipes['i']\n",
    "                                .isin(user_ratings.T.columns)][['i','name']].set_index('i'))\n",
    "\n",
    "summary = summary.join(preds.T)\n",
    "summary.columns = ['rating', 'name', 'pred']\n",
    "\n",
    "#get user mean square error\n",
    "print('MSE for user', id, ':', np.square(preds[user_ratings.T.columns].values - user_ratings.T.values)\n",
    "      .mean())\n",
    "\n",
    "display(summary[['name', 'rating', 'pred']].sort_values('pred', ascending=False))"
   ]
  },
  {
   "cell_type": "code",
   "execution_count": 16,
   "metadata": {},
   "outputs": [
    {
     "name": "stdout",
     "output_type": "stream",
     "text": [
      "The top 10 recommandations from Auto Encoder are :\n"
     ]
    },
    {
     "data": {
      "text/html": [
       "<div>\n",
       "<style scoped>\n",
       "    .dataframe tbody tr th:only-of-type {\n",
       "        vertical-align: middle;\n",
       "    }\n",
       "\n",
       "    .dataframe tbody tr th {\n",
       "        vertical-align: top;\n",
       "    }\n",
       "\n",
       "    .dataframe thead th {\n",
       "        text-align: right;\n",
       "    }\n",
       "</style>\n",
       "<table border=\"1\" class=\"dataframe\">\n",
       "  <thead>\n",
       "    <tr style=\"text-align: right;\">\n",
       "      <th></th>\n",
       "      <th>name</th>\n",
       "      <th>pred</th>\n",
       "    </tr>\n",
       "    <tr>\n",
       "      <th>i</th>\n",
       "      <th></th>\n",
       "      <th></th>\n",
       "    </tr>\n",
       "  </thead>\n",
       "  <tbody>\n",
       "    <tr>\n",
       "      <th>37397</th>\n",
       "      <td>zesty salsa for canning</td>\n",
       "      <td>1.654163</td>\n",
       "    </tr>\n",
       "    <tr>\n",
       "      <th>31342</th>\n",
       "      <td>quinoa stir fry with spinach   walnuts</td>\n",
       "      <td>1.584497</td>\n",
       "    </tr>\n",
       "    <tr>\n",
       "      <th>148545</th>\n",
       "      <td>dessert cheese ball</td>\n",
       "      <td>1.530520</td>\n",
       "    </tr>\n",
       "    <tr>\n",
       "      <th>106867</th>\n",
       "      <td>steak wine marinade</td>\n",
       "      <td>1.520369</td>\n",
       "    </tr>\n",
       "    <tr>\n",
       "      <th>96750</th>\n",
       "      <td>butternut squash fries</td>\n",
       "      <td>1.509151</td>\n",
       "    </tr>\n",
       "    <tr>\n",
       "      <th>44513</th>\n",
       "      <td>minado s perfect sushi rice</td>\n",
       "      <td>1.481694</td>\n",
       "    </tr>\n",
       "    <tr>\n",
       "      <th>126036</th>\n",
       "      <td>no pudge brownie clone</td>\n",
       "      <td>1.462906</td>\n",
       "    </tr>\n",
       "    <tr>\n",
       "      <th>14650</th>\n",
       "      <td>mititei  small ground beef sausages</td>\n",
       "      <td>1.452775</td>\n",
       "    </tr>\n",
       "    <tr>\n",
       "      <th>101550</th>\n",
       "      <td>thanksgiving stuffing  cheat  using stove top</td>\n",
       "      <td>1.440389</td>\n",
       "    </tr>\n",
       "    <tr>\n",
       "      <th>50013</th>\n",
       "      <td>heather s fruit pizza quick and simple</td>\n",
       "      <td>1.435985</td>\n",
       "    </tr>\n",
       "  </tbody>\n",
       "</table>\n",
       "</div>"
      ],
      "text/plain": [
       "                                                 name      pred\n",
       "i                                                              \n",
       "37397                         zesty salsa for canning  1.654163\n",
       "31342          quinoa stir fry with spinach   walnuts  1.584497\n",
       "148545                            dessert cheese ball  1.530520\n",
       "106867                            steak wine marinade  1.520369\n",
       "96750                          butternut squash fries  1.509151\n",
       "44513                     minado s perfect sushi rice  1.481694\n",
       "126036                         no pudge brownie clone  1.462906\n",
       "14650             mititei  small ground beef sausages  1.452775\n",
       "101550  thanksgiving stuffing  cheat  using stove top  1.440389\n",
       "50013          heather s fruit pizza quick and simple  1.435985"
      ]
     },
     "metadata": {},
     "output_type": "display_data"
    }
   ],
   "source": [
    "#top 10 recipes\n",
    "reco = preds[set(preds.columns) - set (user_ratings.columns)].T.sort_values([0],ascending=False)\n",
    "reco_top10 = reco.head(10)\n",
    "reco_top10 = reco_top10.join(recipes[['i','name']].set_index('i'))\n",
    "reco_top10.columns = ['pred', 'name']\n",
    "print('The top 10 recommandations from Auto Encoder are :')\n",
    "display(reco_top10[['name', 'pred']])"
   ]
  },
  {
   "cell_type": "code",
   "execution_count": 17,
   "metadata": {},
   "outputs": [
    {
     "name": "stdout",
     "output_type": "stream",
     "text": [
      "The flop 10 recommandations from Auto Encoder are :\n"
     ]
    },
    {
     "data": {
      "text/html": [
       "<div>\n",
       "<style scoped>\n",
       "    .dataframe tbody tr th:only-of-type {\n",
       "        vertical-align: middle;\n",
       "    }\n",
       "\n",
       "    .dataframe tbody tr th {\n",
       "        vertical-align: top;\n",
       "    }\n",
       "\n",
       "    .dataframe thead th {\n",
       "        text-align: right;\n",
       "    }\n",
       "</style>\n",
       "<table border=\"1\" class=\"dataframe\">\n",
       "  <thead>\n",
       "    <tr style=\"text-align: right;\">\n",
       "      <th></th>\n",
       "      <th>name</th>\n",
       "      <th>pred</th>\n",
       "    </tr>\n",
       "    <tr>\n",
       "      <th>i</th>\n",
       "      <th></th>\n",
       "      <th></th>\n",
       "    </tr>\n",
       "  </thead>\n",
       "  <tbody>\n",
       "    <tr>\n",
       "      <th>99787</th>\n",
       "      <td>to die for crock pot roast</td>\n",
       "      <td>-0.305659</td>\n",
       "    </tr>\n",
       "    <tr>\n",
       "      <th>52334</th>\n",
       "      <td>yes  virginia there is a great meatloaf</td>\n",
       "      <td>-0.301081</td>\n",
       "    </tr>\n",
       "    <tr>\n",
       "      <th>125637</th>\n",
       "      <td>pork chops yum yum</td>\n",
       "      <td>-0.289998</td>\n",
       "    </tr>\n",
       "    <tr>\n",
       "      <th>95864</th>\n",
       "      <td>how i got my family to eat spinach  spinach ca...</td>\n",
       "      <td>-0.214532</td>\n",
       "    </tr>\n",
       "    <tr>\n",
       "      <th>22937</th>\n",
       "      <td>easy seven layer rice casserole</td>\n",
       "      <td>-0.206642</td>\n",
       "    </tr>\n",
       "    <tr>\n",
       "      <th>64311</th>\n",
       "      <td>poverty meal</td>\n",
       "      <td>-0.138964</td>\n",
       "    </tr>\n",
       "    <tr>\n",
       "      <th>96304</th>\n",
       "      <td>low fat cornbread</td>\n",
       "      <td>-0.104181</td>\n",
       "    </tr>\n",
       "    <tr>\n",
       "      <th>155731</th>\n",
       "      <td>sweet pickled banana peppers</td>\n",
       "      <td>-0.097441</td>\n",
       "    </tr>\n",
       "    <tr>\n",
       "      <th>31430</th>\n",
       "      <td>simmered round steak</td>\n",
       "      <td>-0.089497</td>\n",
       "    </tr>\n",
       "    <tr>\n",
       "      <th>2032</th>\n",
       "      <td>linda s apple brownies</td>\n",
       "      <td>-0.069350</td>\n",
       "    </tr>\n",
       "  </tbody>\n",
       "</table>\n",
       "</div>"
      ],
      "text/plain": [
       "                                                     name      pred\n",
       "i                                                                  \n",
       "99787                          to die for crock pot roast -0.305659\n",
       "52334             yes  virginia there is a great meatloaf -0.301081\n",
       "125637                                 pork chops yum yum -0.289998\n",
       "95864   how i got my family to eat spinach  spinach ca... -0.214532\n",
       "22937                     easy seven layer rice casserole -0.206642\n",
       "64311                                        poverty meal -0.138964\n",
       "96304                                   low fat cornbread -0.104181\n",
       "155731                       sweet pickled banana peppers -0.097441\n",
       "31430                                simmered round steak -0.089497\n",
       "2032                               linda s apple brownies -0.069350"
      ]
     },
     "metadata": {},
     "output_type": "display_data"
    }
   ],
   "source": [
    "#flop 10 recipes\n",
    "reco = preds[set(preds.columns) - set (user_ratings.columns)].T.sort_values([0],ascending=True)\n",
    "reco_top10 = reco.head(10)\n",
    "reco_top10 = reco_top10.join(recipes[['i','name']].set_index('i'))\n",
    "reco_top10.columns = ['pred', 'name']\n",
    "print('The flop 10 recommandations from Auto Encoder are :')\n",
    "display(reco_top10[['name', 'pred']])"
   ]
  },
  {
   "cell_type": "markdown",
   "metadata": {},
   "source": [
    "# Get measure of performance for all train set"
   ]
  },
  {
   "cell_type": "code",
   "execution_count": 18,
   "metadata": {},
   "outputs": [
    {
     "name": "stdout",
     "output_type": "stream",
     "text": [
      "6384/6384 [==============================] - 1s 115us/sample\n",
      "6384/6384 [==============================] - 1s 117us/sample\n",
      "6384/6384 [==============================] - 1s 120us/sample\n",
      "6384/6384 [==============================] - 1s 116us/sample\n",
      "6384/6384 [==============================] - 1s 116us/sample\n",
      "6384/6384 [==============================] - 1s 115us/sample\n",
      "6384/6384 [==============================] - 1s 115us/sample\n",
      "6384/6384 [==============================] - 1s 114us/sample\n",
      "749 ms ± 10.9 ms per loop (mean ± std. dev. of 7 runs, 1 loop each)\n"
     ]
    }
   ],
   "source": [
    "%timeit my_model.predict(full_matrix, verbose=1)"
   ]
  },
  {
   "cell_type": "code",
   "execution_count": null,
   "metadata": {},
   "outputs": [],
   "source": []
  }
 ],
 "metadata": {
  "kernelspec": {
   "display_name": "Python 3",
   "language": "python",
   "name": "python3"
  },
  "language_info": {
   "codemirror_mode": {
    "name": "ipython",
    "version": 3
   },
   "file_extension": ".py",
   "mimetype": "text/x-python",
   "name": "python",
   "nbconvert_exporter": "python",
   "pygments_lexer": "ipython3",
   "version": "3.7.5"
  }
 },
 "nbformat": 4,
 "nbformat_minor": 2
}
