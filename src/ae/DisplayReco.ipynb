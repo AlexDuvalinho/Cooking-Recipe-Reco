{
 "cells": [
  {
   "cell_type": "code",
   "execution_count": 1,
   "metadata": {},
   "outputs": [
    {
     "name": "stderr",
     "output_type": "stream",
     "text": [
      "/Users/seb/.local/lib/python3.7/site-packages/tensorboard/compat/tensorflow_stub/dtypes.py:541: FutureWarning: Passing (type, 1) or '1type' as a synonym of type is deprecated; in a future version of numpy, it will be understood as (type, (1,)) / '(1,)type'.\n",
      "  _np_qint8 = np.dtype([(\"qint8\", np.int8, 1)])\n",
      "/Users/seb/.local/lib/python3.7/site-packages/tensorboard/compat/tensorflow_stub/dtypes.py:542: FutureWarning: Passing (type, 1) or '1type' as a synonym of type is deprecated; in a future version of numpy, it will be understood as (type, (1,)) / '(1,)type'.\n",
      "  _np_quint8 = np.dtype([(\"quint8\", np.uint8, 1)])\n",
      "/Users/seb/.local/lib/python3.7/site-packages/tensorboard/compat/tensorflow_stub/dtypes.py:543: FutureWarning: Passing (type, 1) or '1type' as a synonym of type is deprecated; in a future version of numpy, it will be understood as (type, (1,)) / '(1,)type'.\n",
      "  _np_qint16 = np.dtype([(\"qint16\", np.int16, 1)])\n",
      "/Users/seb/.local/lib/python3.7/site-packages/tensorboard/compat/tensorflow_stub/dtypes.py:544: FutureWarning: Passing (type, 1) or '1type' as a synonym of type is deprecated; in a future version of numpy, it will be understood as (type, (1,)) / '(1,)type'.\n",
      "  _np_quint16 = np.dtype([(\"quint16\", np.uint16, 1)])\n",
      "/Users/seb/.local/lib/python3.7/site-packages/tensorboard/compat/tensorflow_stub/dtypes.py:545: FutureWarning: Passing (type, 1) or '1type' as a synonym of type is deprecated; in a future version of numpy, it will be understood as (type, (1,)) / '(1,)type'.\n",
      "  _np_qint32 = np.dtype([(\"qint32\", np.int32, 1)])\n",
      "/Users/seb/.local/lib/python3.7/site-packages/tensorboard/compat/tensorflow_stub/dtypes.py:550: FutureWarning: Passing (type, 1) or '1type' as a synonym of type is deprecated; in a future version of numpy, it will be understood as (type, (1,)) / '(1,)type'.\n",
      "  np_resource = np.dtype([(\"resource\", np.ubyte, 1)])\n"
     ]
    },
    {
     "data": {
      "text/plain": [
       "'2.0.0'"
      ]
     },
     "execution_count": 1,
     "metadata": {},
     "output_type": "execute_result"
    }
   ],
   "source": [
    "import pandas as pd\n",
    "import numpy as np\n",
    "import tensorflow as tf\n",
    "\n",
    "tf.__version__"
   ]
  },
  {
   "cell_type": "markdown",
   "metadata": {},
   "source": [
    "## Load Data"
   ]
  },
  {
   "cell_type": "code",
   "execution_count": 2,
   "metadata": {},
   "outputs": [
    {
     "name": "stdout",
     "output_type": "stream",
     "text": [
      "Shape of train User-Movie-Matrix:\t(6384, 3148)\n",
      "Shape of test User-Movie-Matrix:\t(6384, 3148)\n"
     ]
    }
   ],
   "source": [
    "recipes = pd.read_csv('../../data/generated/recipes.csv')\n",
    "train_matrix = pd.read_csv('../../data/generated/interactions_train_alt.csv').pivot_table(index='u', columns='i', values='rating', dropna=False)\n",
    "print(f'Shape of train User-Movie-Matrix:\\t{train_matrix.shape}')\n",
    "test_matrix = pd.read_csv('../../data/generated/interactions_test_alt.csv').pivot_table(index='u', columns='i', values='rating', dropna=False)\n",
    "print(f'Shape of test User-Movie-Matrix:\\t{test_matrix.shape}')"
   ]
  },
  {
   "cell_type": "code",
   "execution_count": 3,
   "metadata": {},
   "outputs": [],
   "source": [
    "#remplace rating from 0 to 5 to a boolean information : > 3 like (1), otherwise dislike (0)\n",
    "train_matrix = train_matrix.applymap(lambda x : x if np.isnan(x) else int(x>3))\n",
    "test_matrix = test_matrix.applymap(lambda x : x if np.isnan(x) else int(x>3))\n",
    "\n",
    "#normalize data by dividing by 5 as ratings go from 0 to 5\n",
    "#train_matrix = train_matrix / 5\n",
    "#test_matrix = test_matrix /5"
   ]
  },
  {
   "cell_type": "code",
   "execution_count": 4,
   "metadata": {},
   "outputs": [],
   "source": [
    "#replace all missing rating by -1 (as rating are from 0 to 5)\n",
    "#the -1 will be then used in the model loss function as a mask\n",
    "train_matrix.fillna(-1, inplace=True)\n",
    "test_matrix.fillna(-1, inplace=True)"
   ]
  },
  {
   "cell_type": "markdown",
   "metadata": {},
   "source": [
    "## Load the model trained on Colab"
   ]
  },
  {
   "cell_type": "code",
   "execution_count": 5,
   "metadata": {},
   "outputs": [
    {
     "name": "stderr",
     "output_type": "stream",
     "text": [
      "WARNING: Logging before flag parsing goes to stderr.\n",
      "W1125 16:31:28.326725 4597020096 hdf5_format.py:177] No training configuration found in save file: the model was *not* compiled. Compile it manually.\n"
     ]
    }
   ],
   "source": [
    "my_model = tf.keras.models.load_model('ae_v3.h5')"
   ]
  },
  {
   "cell_type": "markdown",
   "metadata": {},
   "source": [
    "## get recommandations from one user"
   ]
  },
  {
   "cell_type": "code",
   "execution_count": 6,
   "metadata": {},
   "outputs": [],
   "source": [
    "#getting user train ratings\n",
    "#id = 24240\n",
    "id=33\n",
    "\n",
    "user = train_matrix[train_matrix.index == id].T\n",
    "user_ratings_train = user[user[id]!=-1]\n",
    "\n",
    "#getting user test ratings\n",
    "user = test_matrix[test_matrix.index == id].T\n",
    "user_ratings_test = user[user[id]!=-1]"
   ]
  },
  {
   "cell_type": "code",
   "execution_count": 7,
   "metadata": {},
   "outputs": [
    {
     "name": "stdout",
     "output_type": "stream",
     "text": [
      "\r",
      "1/1 [==============================] - 0s 41ms/sample\n"
     ]
    }
   ],
   "source": [
    "#get predictions from model\n",
    "user_train = train_matrix[train_matrix.index == id].values\n",
    "preds = my_model.predict(user_train, verbose=1)\n",
    "preds = pd.DataFrame(preds, columns = train_matrix.columns)"
   ]
  },
  {
   "cell_type": "code",
   "execution_count": 8,
   "metadata": {},
   "outputs": [
    {
     "name": "stdout",
     "output_type": "stream",
     "text": [
      "recipes rated by user in train set\n",
      "MSE for user 33 : 0.06876645840369734\n"
     ]
    },
    {
     "data": {
      "text/html": [
       "<div>\n",
       "<style scoped>\n",
       "    .dataframe tbody tr th:only-of-type {\n",
       "        vertical-align: middle;\n",
       "    }\n",
       "\n",
       "    .dataframe tbody tr th {\n",
       "        vertical-align: top;\n",
       "    }\n",
       "\n",
       "    .dataframe thead th {\n",
       "        text-align: right;\n",
       "    }\n",
       "</style>\n",
       "<table border=\"1\" class=\"dataframe\">\n",
       "  <thead>\n",
       "    <tr style=\"text-align: right;\">\n",
       "      <th></th>\n",
       "      <th>name</th>\n",
       "      <th>rating</th>\n",
       "      <th>pred</th>\n",
       "    </tr>\n",
       "    <tr>\n",
       "      <th>i</th>\n",
       "      <th></th>\n",
       "      <th></th>\n",
       "      <th></th>\n",
       "    </tr>\n",
       "  </thead>\n",
       "  <tbody>\n",
       "    <tr>\n",
       "      <th>19812</th>\n",
       "      <td>simply sour cream chicken enchiladas</td>\n",
       "      <td>1.0</td>\n",
       "      <td>1.031206</td>\n",
       "    </tr>\n",
       "    <tr>\n",
       "      <th>135400</th>\n",
       "      <td>payday bars</td>\n",
       "      <td>1.0</td>\n",
       "      <td>1.022895</td>\n",
       "    </tr>\n",
       "    <tr>\n",
       "      <th>78451</th>\n",
       "      <td>crispy coconut chicken fingers</td>\n",
       "      <td>1.0</td>\n",
       "      <td>1.009696</td>\n",
       "    </tr>\n",
       "    <tr>\n",
       "      <th>129723</th>\n",
       "      <td>spinach garlic pizza</td>\n",
       "      <td>1.0</td>\n",
       "      <td>1.002550</td>\n",
       "    </tr>\n",
       "    <tr>\n",
       "      <th>101200</th>\n",
       "      <td>tortellini tomato spinach soup</td>\n",
       "      <td>1.0</td>\n",
       "      <td>0.983494</td>\n",
       "    </tr>\n",
       "    <tr>\n",
       "      <th>97450</th>\n",
       "      <td>roasted parmesan garlic cauliflower</td>\n",
       "      <td>1.0</td>\n",
       "      <td>0.947091</td>\n",
       "    </tr>\n",
       "    <tr>\n",
       "      <th>72296</th>\n",
       "      <td>ziti pepperoni casserole</td>\n",
       "      <td>1.0</td>\n",
       "      <td>0.932472</td>\n",
       "    </tr>\n",
       "    <tr>\n",
       "      <th>87565</th>\n",
       "      <td>chicken pesto</td>\n",
       "      <td>1.0</td>\n",
       "      <td>0.623234</td>\n",
       "    </tr>\n",
       "    <tr>\n",
       "      <th>164348</th>\n",
       "      <td>new mexico style chili chicken casserole</td>\n",
       "      <td>0.0</td>\n",
       "      <td>0.515592</td>\n",
       "    </tr>\n",
       "    <tr>\n",
       "      <th>13616</th>\n",
       "      <td>tofu egg salad</td>\n",
       "      <td>0.0</td>\n",
       "      <td>0.445417</td>\n",
       "    </tr>\n",
       "    <tr>\n",
       "      <th>69992</th>\n",
       "      <td>they won t know raspberry coffee cake</td>\n",
       "      <td>0.0</td>\n",
       "      <td>0.441701</td>\n",
       "    </tr>\n",
       "    <tr>\n",
       "      <th>83310</th>\n",
       "      <td>1 2 3 4  tater tot casserole</td>\n",
       "      <td>0.0</td>\n",
       "      <td>0.121175</td>\n",
       "    </tr>\n",
       "  </tbody>\n",
       "</table>\n",
       "</div>"
      ],
      "text/plain": [
       "                                            name  rating      pred\n",
       "i                                                                 \n",
       "19812       simply sour cream chicken enchiladas     1.0  1.031206\n",
       "135400                               payday bars     1.0  1.022895\n",
       "78451             crispy coconut chicken fingers     1.0  1.009696\n",
       "129723                      spinach garlic pizza     1.0  1.002550\n",
       "101200            tortellini tomato spinach soup     1.0  0.983494\n",
       "97450        roasted parmesan garlic cauliflower     1.0  0.947091\n",
       "72296                   ziti pepperoni casserole     1.0  0.932472\n",
       "87565                              chicken pesto     1.0  0.623234\n",
       "164348  new mexico style chili chicken casserole     0.0  0.515592\n",
       "13616                             tofu egg salad     0.0  0.445417\n",
       "69992      they won t know raspberry coffee cake     0.0  0.441701\n",
       "83310               1 2 3 4  tater tot casserole     0.0  0.121175"
      ]
     },
     "metadata": {},
     "output_type": "display_data"
    }
   ],
   "source": [
    "print('recipes rated by user in train set')\n",
    "\n",
    "summary = user_ratings_train.join(recipes[recipes['i']\n",
    "                                .isin(user_ratings_train.T.columns)][['i','name']].set_index('i'))\n",
    "\n",
    "summary = summary.join(preds.T)\n",
    "summary.columns = ['rating', 'name', 'pred']\n",
    "\n",
    "#get user mean square error\n",
    "print('MSE for user', id, ':', np.square(preds[user_ratings_train.T.columns].values - user_ratings_train.T.values)\n",
    "      .mean())\n",
    "\n",
    "display(summary[['name', 'rating', 'pred']].sort_values('pred', ascending=False))"
   ]
  },
  {
   "cell_type": "code",
   "execution_count": 9,
   "metadata": {},
   "outputs": [
    {
     "name": "stdout",
     "output_type": "stream",
     "text": [
      "The top 10 recommandations from Auto Encoder are :\n"
     ]
    },
    {
     "data": {
      "text/html": [
       "<div>\n",
       "<style scoped>\n",
       "    .dataframe tbody tr th:only-of-type {\n",
       "        vertical-align: middle;\n",
       "    }\n",
       "\n",
       "    .dataframe tbody tr th {\n",
       "        vertical-align: top;\n",
       "    }\n",
       "\n",
       "    .dataframe thead th {\n",
       "        text-align: right;\n",
       "    }\n",
       "</style>\n",
       "<table border=\"1\" class=\"dataframe\">\n",
       "  <thead>\n",
       "    <tr style=\"text-align: right;\">\n",
       "      <th></th>\n",
       "      <th>name</th>\n",
       "      <th>pred</th>\n",
       "    </tr>\n",
       "    <tr>\n",
       "      <th>i</th>\n",
       "      <th></th>\n",
       "      <th></th>\n",
       "    </tr>\n",
       "  </thead>\n",
       "  <tbody>\n",
       "    <tr>\n",
       "      <th>108522</th>\n",
       "      <td>white chili   football soup</td>\n",
       "      <td>1.366778</td>\n",
       "    </tr>\n",
       "    <tr>\n",
       "      <th>163428</th>\n",
       "      <td>auntie anne s pretzels   copycat</td>\n",
       "      <td>1.353319</td>\n",
       "    </tr>\n",
       "    <tr>\n",
       "      <th>92697</th>\n",
       "      <td>old fashioned linguine with white clam sauce</td>\n",
       "      <td>1.319224</td>\n",
       "    </tr>\n",
       "    <tr>\n",
       "      <th>66747</th>\n",
       "      <td>divine meatball sandwiches</td>\n",
       "      <td>1.319195</td>\n",
       "    </tr>\n",
       "    <tr>\n",
       "      <th>96302</th>\n",
       "      <td>the best pasta salad</td>\n",
       "      <td>1.310785</td>\n",
       "    </tr>\n",
       "    <tr>\n",
       "      <th>31840</th>\n",
       "      <td>cucumber and garbanzo bean salad</td>\n",
       "      <td>1.289305</td>\n",
       "    </tr>\n",
       "    <tr>\n",
       "      <th>42272</th>\n",
       "      <td>layer cookies  magic layer bars</td>\n",
       "      <td>1.281570</td>\n",
       "    </tr>\n",
       "    <tr>\n",
       "      <th>54328</th>\n",
       "      <td>softest ever bread machine bread</td>\n",
       "      <td>1.277629</td>\n",
       "    </tr>\n",
       "    <tr>\n",
       "      <th>157749</th>\n",
       "      <td>spinach garlic soup</td>\n",
       "      <td>1.275100</td>\n",
       "    </tr>\n",
       "    <tr>\n",
       "      <th>174816</th>\n",
       "      <td>crock pot garlic rosemary chicken breast</td>\n",
       "      <td>1.267740</td>\n",
       "    </tr>\n",
       "  </tbody>\n",
       "</table>\n",
       "</div>"
      ],
      "text/plain": [
       "                                                name      pred\n",
       "i                                                             \n",
       "108522                   white chili   football soup  1.366778\n",
       "163428              auntie anne s pretzels   copycat  1.353319\n",
       "92697   old fashioned linguine with white clam sauce  1.319224\n",
       "66747                     divine meatball sandwiches  1.319195\n",
       "96302                           the best pasta salad  1.310785\n",
       "31840               cucumber and garbanzo bean salad  1.289305\n",
       "42272                layer cookies  magic layer bars  1.281570\n",
       "54328               softest ever bread machine bread  1.277629\n",
       "157749                           spinach garlic soup  1.275100\n",
       "174816      crock pot garlic rosemary chicken breast  1.267740"
      ]
     },
     "metadata": {},
     "output_type": "display_data"
    }
   ],
   "source": [
    "#top 10 recipes\n",
    "reco = preds[set(preds.columns) - set (user_ratings_train.columns)].T.sort_values([0],ascending=False)\n",
    "reco_top10 = reco.head(10)\n",
    "reco_top10 = reco_top10.join(recipes[['i','name']].set_index('i'))\n",
    "reco_top10.columns = ['pred', 'name']\n",
    "print('The top 10 recommandations from Auto Encoder are :')\n",
    "display(reco_top10[['name', 'pred']])"
   ]
  },
  {
   "cell_type": "code",
   "execution_count": 10,
   "metadata": {
    "scrolled": true
   },
   "outputs": [
    {
     "name": "stdout",
     "output_type": "stream",
     "text": [
      "recipes rated by user in test set\n",
      "MSE for user 33 : 0.48352646321720294\n"
     ]
    },
    {
     "data": {
      "text/html": [
       "<div>\n",
       "<style scoped>\n",
       "    .dataframe tbody tr th:only-of-type {\n",
       "        vertical-align: middle;\n",
       "    }\n",
       "\n",
       "    .dataframe tbody tr th {\n",
       "        vertical-align: top;\n",
       "    }\n",
       "\n",
       "    .dataframe thead th {\n",
       "        text-align: right;\n",
       "    }\n",
       "</style>\n",
       "<table border=\"1\" class=\"dataframe\">\n",
       "  <thead>\n",
       "    <tr style=\"text-align: right;\">\n",
       "      <th></th>\n",
       "      <th>name</th>\n",
       "      <th>rating</th>\n",
       "      <th>pred</th>\n",
       "      <th>position</th>\n",
       "    </tr>\n",
       "    <tr>\n",
       "      <th>i</th>\n",
       "      <th></th>\n",
       "      <th></th>\n",
       "      <th></th>\n",
       "      <th></th>\n",
       "    </tr>\n",
       "  </thead>\n",
       "  <tbody>\n",
       "    <tr>\n",
       "      <th>2949</th>\n",
       "      <td>oreo balls</td>\n",
       "      <td>1.0</td>\n",
       "      <td>0.943919</td>\n",
       "      <td>1245/3148</td>\n",
       "    </tr>\n",
       "    <tr>\n",
       "      <th>149428</th>\n",
       "      <td>wonderful salsa</td>\n",
       "      <td>1.0</td>\n",
       "      <td>0.778163</td>\n",
       "      <td>2171/3148</td>\n",
       "    </tr>\n",
       "    <tr>\n",
       "      <th>166633</th>\n",
       "      <td>pumpkin cream cheese muffins  like starbucks</td>\n",
       "      <td>1.0</td>\n",
       "      <td>0.759723</td>\n",
       "      <td>2242/3148</td>\n",
       "    </tr>\n",
       "    <tr>\n",
       "      <th>134610</th>\n",
       "      <td>crock pot chicken with black beans   cream cheese</td>\n",
       "      <td>1.0</td>\n",
       "      <td>-0.350561</td>\n",
       "      <td>3146/3148</td>\n",
       "    </tr>\n",
       "  </tbody>\n",
       "</table>\n",
       "</div>"
      ],
      "text/plain": [
       "                                                     name  rating      pred  \\\n",
       "i                                                                             \n",
       "2949                                           oreo balls     1.0  0.943919   \n",
       "149428                                    wonderful salsa     1.0  0.778163   \n",
       "166633       pumpkin cream cheese muffins  like starbucks     1.0  0.759723   \n",
       "134610  crock pot chicken with black beans   cream cheese     1.0 -0.350561   \n",
       "\n",
       "         position  \n",
       "i                  \n",
       "2949    1245/3148  \n",
       "149428  2171/3148  \n",
       "166633  2242/3148  \n",
       "134610  3146/3148  "
      ]
     },
     "metadata": {},
     "output_type": "display_data"
    }
   ],
   "source": [
    "print('recipes rated by user in test set')\n",
    "\n",
    "summary = user_ratings_test.join(recipes[recipes['i']\n",
    "                                .isin(user_ratings_test.T.columns)][['i','name']].set_index('i'))\n",
    "\n",
    "summary = summary.join(preds.T)\n",
    "summary.columns = ['rating', 'name', 'pred']\n",
    "summary['position'] = pd.Series(summary.index).apply(\n",
    "                            lambda i : str(reco.index.get_loc(i)) \n",
    "                            + '/' + str(test_matrix.shape[1])).values\n",
    "\n",
    "#get user mean square error\n",
    "print('MSE for user', id, ':', np.square(preds[user_ratings_test.T.columns].values - user_ratings_test.T.values)\n",
    "      .mean())\n",
    "\n",
    "display(summary[['name', 'rating', 'pred', 'position']].sort_values('pred', ascending=False))\n"
   ]
  },
  {
   "cell_type": "markdown",
   "metadata": {},
   "source": [
    "# Get measure of performance for all train set"
   ]
  },
  {
   "cell_type": "code",
   "execution_count": 11,
   "metadata": {},
   "outputs": [
    {
     "name": "stdout",
     "output_type": "stream",
     "text": [
      "6384/6384 [==============================] - 1s 207us/sample\n",
      "6384/6384 [==============================] - 1s 208us/sample\n",
      "6384/6384 [==============================] - 1s 209us/sample\n",
      "6384/6384 [==============================] - 1s 208us/sample\n",
      "6384/6384 [==============================] - 1s 208us/sample\n",
      "6384/6384 [==============================] - 1s 209us/sample\n",
      "6384/6384 [==============================] - 1s 218us/sample\n",
      "6384/6384 [==============================] - 1s 228us/sample\n",
      "1.37 s ± 44.6 ms per loop (mean ± std. dev. of 7 runs, 1 loop each)\n"
     ]
    }
   ],
   "source": [
    "%timeit my_model.predict(train_matrix, verbose=1)"
   ]
  },
  {
   "cell_type": "code",
   "execution_count": null,
   "metadata": {},
   "outputs": [],
   "source": []
  }
 ],
 "metadata": {
  "kernelspec": {
   "display_name": "Python 3",
   "language": "python",
   "name": "python3"
  },
  "language_info": {
   "codemirror_mode": {
    "name": "ipython",
    "version": 3
   },
   "file_extension": ".py",
   "mimetype": "text/x-python",
   "name": "python",
   "nbconvert_exporter": "python",
   "pygments_lexer": "ipython3",
   "version": "3.7.5"
  }
 },
 "nbformat": 4,
 "nbformat_minor": 2
}
